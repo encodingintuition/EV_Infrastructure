{
 "cells": [
  {
   "cell_type": "markdown",
   "metadata": {},
   "source": [
    "# EV data - City of Austin \n",
    "### ref: Plug-In EVerywhere Level 2 Charging Station Network\n",
    "link: https://data.world/cityofaustin/k5hp-eece\n",
    "<hr>"
   ]
  },
  {
   "cell_type": "code",
   "execution_count": 6,
   "metadata": {},
   "outputs": [],
   "source": [
    "# Imports\n",
    "\n",
    "import pandas as pd"
   ]
  },
  {
   "cell_type": "code",
   "execution_count": 18,
   "metadata": {},
   "outputs": [
    {
     "name": "stdout",
     "output_type": "stream",
     "text": [
      "\u001b[34mArchive\u001b[m\u001b[m/    \u001b[34mQGIS\u001b[m\u001b[m/       \u001b[34mclean_data\u001b[m\u001b[m/ \u001b[34mdata\u001b[m\u001b[m/\n",
      "LICENSE     README.md   \u001b[34mcode\u001b[m\u001b[m/\n"
     ]
    }
   ],
   "source": [
    "ls .."
   ]
  },
  {
   "cell_type": "code",
   "execution_count": 51,
   "metadata": {},
   "outputs": [],
   "source": [
    "df = pd.read_csv('../data/ev_locations/plug-in-everywhere-level-2-charging-station-network-1.csv')"
   ]
  },
  {
   "cell_type": "code",
   "execution_count": 23,
   "metadata": {},
   "outputs": [
    {
     "data": {
      "text/plain": [
       "(467, 17)"
      ]
     },
     "execution_count": 23,
     "metadata": {},
     "output_type": "execute_result"
    }
   ],
   "source": [
    "df.shape"
   ]
  },
  {
   "cell_type": "code",
   "execution_count": 27,
   "metadata": {},
   "outputs": [
    {
     "data": {
      "text/html": [
       "<div>\n",
       "<style scoped>\n",
       "    .dataframe tbody tr th:only-of-type {\n",
       "        vertical-align: middle;\n",
       "    }\n",
       "\n",
       "    .dataframe tbody tr th {\n",
       "        vertical-align: top;\n",
       "    }\n",
       "\n",
       "    .dataframe thead th {\n",
       "        text-align: right;\n",
       "    }\n",
       "</style>\n",
       "<table border=\"1\" class=\"dataframe\">\n",
       "  <thead>\n",
       "    <tr style=\"text-align: right;\">\n",
       "      <th></th>\n",
       "      <th>Station Name</th>\n",
       "      <th>Address  1</th>\n",
       "      <th>Address  2</th>\n",
       "      <th>City</th>\n",
       "      <th>State</th>\n",
       "      <th>Postal Code</th>\n",
       "      <th>No. of Ports</th>\n",
       "      <th>Pricing Policy</th>\n",
       "      <th>Usage Access</th>\n",
       "      <th>Category</th>\n",
       "      <th>Subcategory</th>\n",
       "      <th>Port 1: Connector Type</th>\n",
       "      <th>Voltage (V)</th>\n",
       "      <th>Port 2: Connector Type</th>\n",
       "      <th>New Georeferenced Column</th>\n",
       "      <th>Pricing</th>\n",
       "      <th>Power Select</th>\n",
       "    </tr>\n",
       "  </thead>\n",
       "  <tbody>\n",
       "    <tr>\n",
       "      <th>0</th>\n",
       "      <td>CATHERINE / CATHERINE 1</td>\n",
       "      <td>300 Barton Springs Rd</td>\n",
       "      <td>NaN</td>\n",
       "      <td>Austin</td>\n",
       "      <td>Texas</td>\n",
       "      <td>78704</td>\n",
       "      <td>2</td>\n",
       "      <td>$4.17/month PIE members $2/hr Non-Members</td>\n",
       "      <td>Multi-family residential</td>\n",
       "      <td>Multifamily Commercial</td>\n",
       "      <td>Apartment</td>\n",
       "      <td>J1772</td>\n",
       "      <td>240V</td>\n",
       "      <td>J1772</td>\n",
       "      <td>(30.259096, -97.747775)</td>\n",
       "      <td>$4.17/month PIE members $2/hr Non-Members</td>\n",
       "      <td>40A</td>\n",
       "    </tr>\n",
       "    <tr>\n",
       "      <th>1</th>\n",
       "      <td>AUSTIN HQ / STATION 1</td>\n",
       "      <td>4200 Smith School Dr</td>\n",
       "      <td>NaN</td>\n",
       "      <td>Austin</td>\n",
       "      <td>Texas</td>\n",
       "      <td>78744</td>\n",
       "      <td>2</td>\n",
       "      <td>$4.17/month PIE members $2/hr Non-Members</td>\n",
       "      <td>Commercial with unrestricted access</td>\n",
       "      <td>Workplace</td>\n",
       "      <td>General</td>\n",
       "      <td>J1772</td>\n",
       "      <td>240V</td>\n",
       "      <td>J1772</td>\n",
       "      <td>(30.192647, -97.714329)</td>\n",
       "      <td>$4.17/month PIE members $2/hr Non-Members</td>\n",
       "      <td>40A</td>\n",
       "    </tr>\n",
       "    <tr>\n",
       "      <th>2</th>\n",
       "      <td>SCHOOL / AKINS1</td>\n",
       "      <td>10701 S 1st St.</td>\n",
       "      <td>NaN</td>\n",
       "      <td>Austin</td>\n",
       "      <td>Texas</td>\n",
       "      <td>78748</td>\n",
       "      <td>2</td>\n",
       "      <td>$4.17/month PIE members $2/hr Non-Members</td>\n",
       "      <td>Public (Municipal, as in library, street, etc)</td>\n",
       "      <td>Education</td>\n",
       "      <td>High School / Other</td>\n",
       "      <td>J1772</td>\n",
       "      <td>240V</td>\n",
       "      <td>J1772</td>\n",
       "      <td>(30.147634, -97.801294)</td>\n",
       "      <td>$4.17/month PIE members $2/hr Non-Members</td>\n",
       "      <td>40A</td>\n",
       "    </tr>\n",
       "    <tr>\n",
       "      <th>3</th>\n",
       "      <td>MONOGRAM / HANDICAP</td>\n",
       "      <td>615 W 7th St</td>\n",
       "      <td>NaN</td>\n",
       "      <td>Austin</td>\n",
       "      <td>Texas</td>\n",
       "      <td>78701</td>\n",
       "      <td>1</td>\n",
       "      <td>$4.17/month PIE members $2/hr Non-Members</td>\n",
       "      <td>Multi-family residential</td>\n",
       "      <td>Multifamily Commercial</td>\n",
       "      <td>Apartment</td>\n",
       "      <td>J1772</td>\n",
       "      <td>--</td>\n",
       "      <td>--</td>\n",
       "      <td>(30.270571, -97.748993)</td>\n",
       "      <td>$4.17/month PIE members $2/hr Non-Members</td>\n",
       "      <td>40A</td>\n",
       "    </tr>\n",
       "    <tr>\n",
       "      <th>4</th>\n",
       "      <td>FLATIRON DOMAIN / FLATIRON DOM 2</td>\n",
       "      <td>10727 domain dr</td>\n",
       "      <td>NaN</td>\n",
       "      <td>Austin</td>\n",
       "      <td>Texas</td>\n",
       "      <td>78758</td>\n",
       "      <td>2</td>\n",
       "      <td>$4.17/month PIE members $2/hr Non-Members</td>\n",
       "      <td>Multi-family residential</td>\n",
       "      <td>Multifamily Commercial</td>\n",
       "      <td>Apartment</td>\n",
       "      <td>J1772</td>\n",
       "      <td>240V</td>\n",
       "      <td>J1772</td>\n",
       "      <td>(30.392852, -97.723729)</td>\n",
       "      <td>$4.17/month PIE members $2/hr Non-Members</td>\n",
       "      <td>40A</td>\n",
       "    </tr>\n",
       "  </tbody>\n",
       "</table>\n",
       "</div>"
      ],
      "text/plain": [
       "                       Station Name             Address  1 Address  2    City  \\\n",
       "0           CATHERINE / CATHERINE 1  300 Barton Springs Rd        NaN  Austin   \n",
       "1             AUSTIN HQ / STATION 1   4200 Smith School Dr        NaN  Austin   \n",
       "2                   SCHOOL / AKINS1        10701 S 1st St.        NaN  Austin   \n",
       "3               MONOGRAM / HANDICAP           615 W 7th St        NaN  Austin   \n",
       "4  FLATIRON DOMAIN / FLATIRON DOM 2        10727 domain dr        NaN  Austin   \n",
       "\n",
       "   State  Postal Code  No. of Ports  \\\n",
       "0  Texas        78704             2   \n",
       "1  Texas        78744             2   \n",
       "2  Texas        78748             2   \n",
       "3  Texas        78701             1   \n",
       "4  Texas        78758             2   \n",
       "\n",
       "                              Pricing Policy  \\\n",
       "0  $4.17/month PIE members $2/hr Non-Members   \n",
       "1  $4.17/month PIE members $2/hr Non-Members   \n",
       "2  $4.17/month PIE members $2/hr Non-Members   \n",
       "3  $4.17/month PIE members $2/hr Non-Members   \n",
       "4  $4.17/month PIE members $2/hr Non-Members   \n",
       "\n",
       "                                     Usage Access                Category  \\\n",
       "0                        Multi-family residential  Multifamily Commercial   \n",
       "1             Commercial with unrestricted access               Workplace   \n",
       "2  Public (Municipal, as in library, street, etc)               Education   \n",
       "3                        Multi-family residential  Multifamily Commercial   \n",
       "4                        Multi-family residential  Multifamily Commercial   \n",
       "\n",
       "           Subcategory Port 1: Connector Type Voltage (V)  \\\n",
       "0            Apartment                  J1772        240V   \n",
       "1              General                  J1772        240V   \n",
       "2  High School / Other                  J1772        240V   \n",
       "3            Apartment                  J1772          --   \n",
       "4            Apartment                  J1772        240V   \n",
       "\n",
       "  Port 2: Connector Type New Georeferenced Column  \\\n",
       "0                  J1772  (30.259096, -97.747775)   \n",
       "1                  J1772  (30.192647, -97.714329)   \n",
       "2                  J1772  (30.147634, -97.801294)   \n",
       "3                     --  (30.270571, -97.748993)   \n",
       "4                  J1772  (30.392852, -97.723729)   \n",
       "\n",
       "                                    Pricing  Power Select  \n",
       "0  $4.17/month PIE members $2/hr Non-Members          40A  \n",
       "1  $4.17/month PIE members $2/hr Non-Members          40A  \n",
       "2  $4.17/month PIE members $2/hr Non-Members          40A  \n",
       "3  $4.17/month PIE members $2/hr Non-Members          40A  \n",
       "4  $4.17/month PIE members $2/hr Non-Members          40A  "
      ]
     },
     "execution_count": 27,
     "metadata": {},
     "output_type": "execute_result"
    }
   ],
   "source": [
    "df.head()"
   ]
  },
  {
   "cell_type": "code",
   "execution_count": 35,
   "metadata": {},
   "outputs": [
    {
     "data": {
      "text/html": [
       "<div>\n",
       "<style scoped>\n",
       "    .dataframe tbody tr th:only-of-type {\n",
       "        vertical-align: middle;\n",
       "    }\n",
       "\n",
       "    .dataframe tbody tr th {\n",
       "        vertical-align: top;\n",
       "    }\n",
       "\n",
       "    .dataframe thead th {\n",
       "        text-align: right;\n",
       "    }\n",
       "</style>\n",
       "<table border=\"1\" class=\"dataframe\">\n",
       "  <thead>\n",
       "    <tr style=\"text-align: right;\">\n",
       "      <th></th>\n",
       "      <th>Station Name</th>\n",
       "      <th>Address  1</th>\n",
       "      <th>Address  2</th>\n",
       "      <th>City</th>\n",
       "      <th>State</th>\n",
       "      <th>Postal Code</th>\n",
       "      <th>No. of Ports</th>\n",
       "      <th>Pricing Policy</th>\n",
       "      <th>Usage Access</th>\n",
       "      <th>Category</th>\n",
       "      <th>Subcategory</th>\n",
       "      <th>Port 1: Connector Type</th>\n",
       "      <th>Voltage (V)</th>\n",
       "      <th>Port 2: Connector Type</th>\n",
       "      <th>New Georeferenced Column</th>\n",
       "      <th>Pricing</th>\n",
       "      <th>Power Select</th>\n",
       "    </tr>\n",
       "  </thead>\n",
       "  <tbody>\n",
       "    <tr>\n",
       "      <th>462</th>\n",
       "      <td>AISD PAC / AISD PAC #5</td>\n",
       "      <td>1301-1603 E 51st St</td>\n",
       "      <td>NaN</td>\n",
       "      <td>Austin</td>\n",
       "      <td>Texas</td>\n",
       "      <td>78723</td>\n",
       "      <td>2</td>\n",
       "      <td>$4.17/month PIE members $2/hr Non-Members</td>\n",
       "      <td>Commercial with unrestricted access</td>\n",
       "      <td>Education</td>\n",
       "      <td>High School / Other</td>\n",
       "      <td>J1772</td>\n",
       "      <td>240V</td>\n",
       "      <td>J1772</td>\n",
       "      <td>(30.305204, -97.702108)</td>\n",
       "      <td>$4.17/month PIE members $2/hr Non-Members</td>\n",
       "      <td>40A</td>\n",
       "    </tr>\n",
       "    <tr>\n",
       "      <th>463</th>\n",
       "      <td>HPI 3700 / EV 6</td>\n",
       "      <td>4339 N Capital of Texas Hwy</td>\n",
       "      <td>NaN</td>\n",
       "      <td>Austin</td>\n",
       "      <td>Texas</td>\n",
       "      <td>78746</td>\n",
       "      <td>1</td>\n",
       "      <td>$4.17/month PIE members $2/hr Non-Members</td>\n",
       "      <td>Commercial with unrestricted access</td>\n",
       "      <td>Workplace</td>\n",
       "      <td>General</td>\n",
       "      <td>J1772</td>\n",
       "      <td>--</td>\n",
       "      <td>--</td>\n",
       "      <td>(30.336616, -97.8076)</td>\n",
       "      <td>$4.17/month PIE members $2/hr Non-Members</td>\n",
       "      <td>40A</td>\n",
       "    </tr>\n",
       "    <tr>\n",
       "      <th>464</th>\n",
       "      <td>PIE AE / PALMER STATION3</td>\n",
       "      <td>736-820 Barton Springs Rd</td>\n",
       "      <td>NaN</td>\n",
       "      <td>Austin</td>\n",
       "      <td>Texas</td>\n",
       "      <td>78704</td>\n",
       "      <td>2</td>\n",
       "      <td>$4.17/month PIE members $2/hr Non-Members</td>\n",
       "      <td>Commercial with unrestricted access</td>\n",
       "      <td>Parking</td>\n",
       "      <td>Commercial</td>\n",
       "      <td>J1772</td>\n",
       "      <td>240V</td>\n",
       "      <td>J1772</td>\n",
       "      <td>(30.259236, -97.751809)</td>\n",
       "      <td>$4.17/month PIE members $2/hr Non-Members</td>\n",
       "      <td>40A</td>\n",
       "    </tr>\n",
       "    <tr>\n",
       "      <th>465</th>\n",
       "      <td>ROSCOE PROPERTI / TRIO MAIN</td>\n",
       "      <td>2413-2433 S Pleasant Valley Rd</td>\n",
       "      <td>NaN</td>\n",
       "      <td>Austin</td>\n",
       "      <td>Texas</td>\n",
       "      <td>78741</td>\n",
       "      <td>2</td>\n",
       "      <td>$4.17/month PIE members $2/hr Non-Members</td>\n",
       "      <td>Multi-family residential</td>\n",
       "      <td>Multifamily Commercial</td>\n",
       "      <td>Apartment</td>\n",
       "      <td>J1772</td>\n",
       "      <td>240V</td>\n",
       "      <td>J1772</td>\n",
       "      <td>(30.228786, -97.726326)</td>\n",
       "      <td>$4.17/month PIE members $2/hr Non-Members</td>\n",
       "      <td>40A</td>\n",
       "    </tr>\n",
       "    <tr>\n",
       "      <th>466</th>\n",
       "      <td>DSMCUT / EVSE01 FLOOR L7</td>\n",
       "      <td>501-573 E 15th St</td>\n",
       "      <td>NaN</td>\n",
       "      <td>Austin</td>\n",
       "      <td>Texas</td>\n",
       "      <td>78701</td>\n",
       "      <td>2</td>\n",
       "      <td>$4.17/month PIE members $2/hr Non-Members</td>\n",
       "      <td>Commercial with unrestricted access</td>\n",
       "      <td>Healthcare</td>\n",
       "      <td>Hospital / Treatment Center</td>\n",
       "      <td>J1772</td>\n",
       "      <td>240V</td>\n",
       "      <td>J1772</td>\n",
       "      <td>(30.275261, -97.73458)</td>\n",
       "      <td>$4.17/month PIE members $2/hr Non-Members</td>\n",
       "      <td>40A</td>\n",
       "    </tr>\n",
       "  </tbody>\n",
       "</table>\n",
       "</div>"
      ],
      "text/plain": [
       "                    Station Name                      Address  1 Address  2  \\\n",
       "462       AISD PAC / AISD PAC #5             1301-1603 E 51st St        NaN   \n",
       "463              HPI 3700 / EV 6     4339 N Capital of Texas Hwy        NaN   \n",
       "464     PIE AE / PALMER STATION3       736-820 Barton Springs Rd        NaN   \n",
       "465  ROSCOE PROPERTI / TRIO MAIN  2413-2433 S Pleasant Valley Rd        NaN   \n",
       "466     DSMCUT / EVSE01 FLOOR L7               501-573 E 15th St        NaN   \n",
       "\n",
       "       City  State  Postal Code  No. of Ports  \\\n",
       "462  Austin  Texas        78723             2   \n",
       "463  Austin  Texas        78746             1   \n",
       "464  Austin  Texas        78704             2   \n",
       "465  Austin  Texas        78741             2   \n",
       "466  Austin  Texas        78701             2   \n",
       "\n",
       "                                Pricing Policy  \\\n",
       "462  $4.17/month PIE members $2/hr Non-Members   \n",
       "463  $4.17/month PIE members $2/hr Non-Members   \n",
       "464  $4.17/month PIE members $2/hr Non-Members   \n",
       "465  $4.17/month PIE members $2/hr Non-Members   \n",
       "466  $4.17/month PIE members $2/hr Non-Members   \n",
       "\n",
       "                            Usage Access                Category  \\\n",
       "462  Commercial with unrestricted access               Education   \n",
       "463  Commercial with unrestricted access               Workplace   \n",
       "464  Commercial with unrestricted access                 Parking   \n",
       "465             Multi-family residential  Multifamily Commercial   \n",
       "466  Commercial with unrestricted access              Healthcare   \n",
       "\n",
       "                     Subcategory Port 1: Connector Type Voltage (V)  \\\n",
       "462          High School / Other                  J1772        240V   \n",
       "463                      General                  J1772          --   \n",
       "464                   Commercial                  J1772        240V   \n",
       "465                    Apartment                  J1772        240V   \n",
       "466  Hospital / Treatment Center                  J1772        240V   \n",
       "\n",
       "    Port 2: Connector Type New Georeferenced Column  \\\n",
       "462                  J1772  (30.305204, -97.702108)   \n",
       "463                     --    (30.336616, -97.8076)   \n",
       "464                  J1772  (30.259236, -97.751809)   \n",
       "465                  J1772  (30.228786, -97.726326)   \n",
       "466                  J1772   (30.275261, -97.73458)   \n",
       "\n",
       "                                      Pricing  Power Select  \n",
       "462  $4.17/month PIE members $2/hr Non-Members          40A  \n",
       "463  $4.17/month PIE members $2/hr Non-Members          40A  \n",
       "464  $4.17/month PIE members $2/hr Non-Members          40A  \n",
       "465  $4.17/month PIE members $2/hr Non-Members          40A  \n",
       "466  $4.17/month PIE members $2/hr Non-Members          40A  "
      ]
     },
     "execution_count": 35,
     "metadata": {},
     "output_type": "execute_result"
    }
   ],
   "source": [
    "df.tail()"
   ]
  },
  {
   "cell_type": "code",
   "execution_count": 34,
   "metadata": {},
   "outputs": [
    {
     "data": {
      "text/html": [
       "<div>\n",
       "<style scoped>\n",
       "    .dataframe tbody tr th:only-of-type {\n",
       "        vertical-align: middle;\n",
       "    }\n",
       "\n",
       "    .dataframe tbody tr th {\n",
       "        vertical-align: top;\n",
       "    }\n",
       "\n",
       "    .dataframe thead th {\n",
       "        text-align: right;\n",
       "    }\n",
       "</style>\n",
       "<table border=\"1\" class=\"dataframe\">\n",
       "  <thead>\n",
       "    <tr style=\"text-align: right;\">\n",
       "      <th></th>\n",
       "      <th>0</th>\n",
       "    </tr>\n",
       "  </thead>\n",
       "  <tbody>\n",
       "    <tr>\n",
       "      <th>Station Name</th>\n",
       "      <td>CATHERINE / CATHERINE 1</td>\n",
       "    </tr>\n",
       "    <tr>\n",
       "      <th>Address  1</th>\n",
       "      <td>300 Barton Springs Rd</td>\n",
       "    </tr>\n",
       "    <tr>\n",
       "      <th>Address  2</th>\n",
       "      <td>NaN</td>\n",
       "    </tr>\n",
       "    <tr>\n",
       "      <th>City</th>\n",
       "      <td>Austin</td>\n",
       "    </tr>\n",
       "    <tr>\n",
       "      <th>State</th>\n",
       "      <td>Texas</td>\n",
       "    </tr>\n",
       "    <tr>\n",
       "      <th>Postal Code</th>\n",
       "      <td>78704</td>\n",
       "    </tr>\n",
       "    <tr>\n",
       "      <th>No. of Ports</th>\n",
       "      <td>2</td>\n",
       "    </tr>\n",
       "    <tr>\n",
       "      <th>Pricing Policy</th>\n",
       "      <td>$4.17/month PIE members $2/hr Non-Members</td>\n",
       "    </tr>\n",
       "    <tr>\n",
       "      <th>Usage Access</th>\n",
       "      <td>Multi-family residential</td>\n",
       "    </tr>\n",
       "    <tr>\n",
       "      <th>Category</th>\n",
       "      <td>Multifamily Commercial</td>\n",
       "    </tr>\n",
       "    <tr>\n",
       "      <th>Subcategory</th>\n",
       "      <td>Apartment</td>\n",
       "    </tr>\n",
       "    <tr>\n",
       "      <th>Port 1: Connector Type</th>\n",
       "      <td>J1772</td>\n",
       "    </tr>\n",
       "    <tr>\n",
       "      <th>Voltage (V)</th>\n",
       "      <td>240V</td>\n",
       "    </tr>\n",
       "    <tr>\n",
       "      <th>Port 2: Connector Type</th>\n",
       "      <td>J1772</td>\n",
       "    </tr>\n",
       "    <tr>\n",
       "      <th>New Georeferenced Column</th>\n",
       "      <td>(30.259096, -97.747775)</td>\n",
       "    </tr>\n",
       "    <tr>\n",
       "      <th>Pricing</th>\n",
       "      <td>$4.17/month PIE members $2/hr Non-Members</td>\n",
       "    </tr>\n",
       "    <tr>\n",
       "      <th>Power Select</th>\n",
       "      <td>40A</td>\n",
       "    </tr>\n",
       "  </tbody>\n",
       "</table>\n",
       "</div>"
      ],
      "text/plain": [
       "                                                                  0\n",
       "Station Name                                CATHERINE / CATHERINE 1\n",
       "Address  1                                    300 Barton Springs Rd\n",
       "Address  2                                                      NaN\n",
       "City                                                         Austin\n",
       "State                                                         Texas\n",
       "Postal Code                                                   78704\n",
       "No. of Ports                                                      2\n",
       "Pricing Policy            $4.17/month PIE members $2/hr Non-Members\n",
       "Usage Access                               Multi-family residential\n",
       "Category                                     Multifamily Commercial\n",
       "Subcategory                                               Apartment\n",
       "Port 1: Connector Type                                        J1772\n",
       "Voltage (V)                                                    240V\n",
       "Port 2: Connector Type                                        J1772\n",
       "New Georeferenced Column                    (30.259096, -97.747775)\n",
       "Pricing                   $4.17/month PIE members $2/hr Non-Members\n",
       "Power Select                                                    40A"
      ]
     },
     "execution_count": 34,
     "metadata": {},
     "output_type": "execute_result"
    }
   ],
   "source": [
    "df.head(1).T"
   ]
  },
  {
   "cell_type": "code",
   "execution_count": 31,
   "metadata": {},
   "outputs": [
    {
     "data": {
      "text/plain": [
       "Index(['Station Name', 'Address  1', 'Address  2', 'City', 'State',\n",
       "       'Postal Code', 'No. of Ports', 'Pricing Policy', 'Usage Access',\n",
       "       'Category', 'Subcategory', 'Port 1: Connector Type', 'Voltage (V)',\n",
       "       'Port 2: Connector Type', 'New Georeferenced Column', 'Pricing ',\n",
       "       'Power Select'],\n",
       "      dtype='object')"
      ]
     },
     "execution_count": 31,
     "metadata": {},
     "output_type": "execute_result"
    }
   ],
   "source": [
    "df.columns"
   ]
  },
  {
   "cell_type": "code",
   "execution_count": null,
   "metadata": {},
   "outputs": [],
   "source": [
    "\"\"\"\n",
    "\n",
    "- have a count for each column\n",
    "\n",
    "\n",
    "- visulaize graph & GIS which belong to a particular category [by category / sub category, price ]\n",
    "\n",
    "\n",
    "\n",
    "\"\"\""
   ]
  },
  {
   "cell_type": "markdown",
   "metadata": {},
   "source": [
    "<hr>"
   ]
  },
  {
   "cell_type": "code",
   "execution_count": null,
   "metadata": {},
   "outputs": [],
   "source": []
  },
  {
   "cell_type": "markdown",
   "metadata": {},
   "source": [
    "<br>\n",
    "\n",
    "### Columns - POWER"
   ]
  },
  {
   "cell_type": "code",
   "execution_count": 37,
   "metadata": {},
   "outputs": [
    {
     "data": {
      "text/plain": [
       "2    437\n",
       "1     30\n",
       "Name: No. of Ports, dtype: int64"
      ]
     },
     "execution_count": 37,
     "metadata": {},
     "output_type": "execute_result"
    }
   ],
   "source": [
    "# No. of Ports\n",
    "\n",
    "df['No. of Ports'].value_counts()"
   ]
  },
  {
   "cell_type": "code",
   "execution_count": 39,
   "metadata": {},
   "outputs": [
    {
     "data": {
      "text/plain": [
       "240V    437\n",
       "--       30\n",
       "Name: Voltage (V), dtype: int64"
      ]
     },
     "execution_count": 39,
     "metadata": {},
     "output_type": "execute_result"
    }
   ],
   "source": [
    "# 'Voltage (V)'\n",
    "\n",
    "df['Voltage (V)'].value_counts()"
   ]
  },
  {
   "cell_type": "code",
   "execution_count": 40,
   "metadata": {},
   "outputs": [
    {
     "data": {
      "text/plain": [
       "40A    444\n",
       "30A     11\n",
       "20A      2\n",
       "Name: Power Select, dtype: int64"
      ]
     },
     "execution_count": 40,
     "metadata": {},
     "output_type": "execute_result"
    }
   ],
   "source": [
    "# Power Select\n",
    "\n",
    "df['Power Select'].value_counts()"
   ]
  },
  {
   "cell_type": "code",
   "execution_count": 42,
   "metadata": {},
   "outputs": [
    {
     "data": {
      "text/plain": [
       "$4.17/month PIE members $2/hr Non-Members    467\n",
       "Name: Pricing Policy, dtype: int64"
      ]
     },
     "execution_count": 42,
     "metadata": {},
     "output_type": "execute_result"
    }
   ],
   "source": [
    "# 'Pricing Policy'\n",
    "\n",
    "df['Pricing Policy'].value_counts()"
   ]
  },
  {
   "cell_type": "code",
   "execution_count": 43,
   "metadata": {},
   "outputs": [
    {
     "data": {
      "text/plain": [
       "J1772         433\n",
       "NEMA 5-20R     34\n",
       "Name: Port 1: Connector Type, dtype: int64"
      ]
     },
     "execution_count": 43,
     "metadata": {},
     "output_type": "execute_result"
    }
   ],
   "source": [
    "# 'Port 1: Connector Type'\n",
    "\n",
    "df['Port 1: Connector Type'].value_counts()"
   ]
  },
  {
   "cell_type": "code",
   "execution_count": 44,
   "metadata": {},
   "outputs": [
    {
     "data": {
      "text/plain": [
       "J1772    437\n",
       "--        30\n",
       "Name: Port 2: Connector Type, dtype: int64"
      ]
     },
     "execution_count": 44,
     "metadata": {},
     "output_type": "execute_result"
    }
   ],
   "source": [
    "df['Port 2: Connector Type'].value_counts()"
   ]
  },
  {
   "cell_type": "markdown",
   "metadata": {},
   "source": [
    "<br>\n",
    "\n",
    "### Columns - DEMOGRAPHIC"
   ]
  },
  {
   "cell_type": "code",
   "execution_count": 47,
   "metadata": {},
   "outputs": [
    {
     "data": {
      "text/plain": [
       "Commercial with unrestricted access               301\n",
       "Commercial with restricted access                  67\n",
       "Multi-family residential                           57\n",
       "Public (Municipal, as in library, street, etc)     42\n",
       "Name: Usage Access, dtype: int64"
      ]
     },
     "execution_count": 47,
     "metadata": {},
     "output_type": "execute_result"
    }
   ],
   "source": [
    "# Usage Access\n",
    "\n",
    "df['Usage Access'].value_counts()"
   ]
  },
  {
   "cell_type": "code",
   "execution_count": 45,
   "metadata": {},
   "outputs": [
    {
     "data": {
      "text/plain": [
       "Workplace                 175\n",
       "Parking                   117\n",
       "Multifamily Commercial     91\n",
       "Municipal                  40\n",
       "Education                  14\n",
       "Healthcare                 10\n",
       "Retail                      8\n",
       "Parks and Recreation        7\n",
       "Hospitality                 5\n",
       "Name: Category, dtype: int64"
      ]
     },
     "execution_count": 45,
     "metadata": {},
     "output_type": "execute_result"
    }
   ],
   "source": [
    "# Category\n",
    "\n",
    "df['Category'].value_counts()"
   ]
  },
  {
   "cell_type": "code",
   "execution_count": 48,
   "metadata": {},
   "outputs": [
    {
     "data": {
      "text/plain": [
       "General                          134\n",
       "Commercial                       107\n",
       "Apartment                         89\n",
       "High-Tech                         41\n",
       "Municipal Fleet                   21\n",
       "High School / Other               10\n",
       "Hospital / Treatment Center       10\n",
       "Airport                           10\n",
       "Library                            8\n",
       "Municipal Workplace                7\n",
       "Hotel / Resort                     5\n",
       "University / College               4\n",
       "Municipal Parking                  3\n",
       "Shopping Center                    3\n",
       "Big Box / Superstore               2\n",
       "Car Rental / Car Share             2\n",
       "Condominium                        2\n",
       "Parks and Recreation (Public)      1\n",
       "Strip Mall                         1\n",
       "Name: Subcategory, dtype: int64"
      ]
     },
     "execution_count": 48,
     "metadata": {},
     "output_type": "execute_result"
    }
   ],
   "source": [
    "# Subcategory\n",
    "\n",
    "df['Subcategory'].value_counts()"
   ]
  },
  {
   "cell_type": "code",
   "execution_count": null,
   "metadata": {},
   "outputs": [],
   "source": []
  }
 ],
 "metadata": {
  "kernelspec": {
   "display_name": "Python 3",
   "language": "python",
   "name": "python3"
  },
  "language_info": {
   "codemirror_mode": {
    "name": "ipython",
    "version": 3
   },
   "file_extension": ".py",
   "mimetype": "text/x-python",
   "name": "python",
   "nbconvert_exporter": "python",
   "pygments_lexer": "ipython3",
   "version": "3.8.2"
  }
 },
 "nbformat": 4,
 "nbformat_minor": 4
}
