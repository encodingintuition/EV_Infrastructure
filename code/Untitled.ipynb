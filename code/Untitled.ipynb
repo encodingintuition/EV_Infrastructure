{
 "cells": [
  {
   "cell_type": "code",
   "execution_count": null,
   "metadata": {},
   "outputs": [],
   "source": [
    "'Plus4','Fuel Type Code','BD Blends','NG Fill Type Code ','NG PSI','Hydrogen Status Link','NG Vehicle Class','E85 Blender Pump','Intersection Directions (French)','Access Days Time (French)','BD Blends (French)','Groups With Access Code (French)','Hydrogen Is Retail','CNG Dispenser Num','CNG On-Site Renewable Source','CNG Total Compression Capacity','CNG Storage Capacity','CNG Storage Capacity','LNG On-Site Renewable Source','E85 Other Ethanol Blends','EV Pricing (French)','LPG Nozzle Types','LPG Nozzle Types','Hydrogen Pressures','Hydrogen Standards','CNG Fill Type Code','CNG PSI','CNG Vehicle Class','LNG Vehicle Class','Restricted Access'"
   ]
  },
  {
   "cell_type": "code",
   "execution_count": null,
   "metadata": {},
   "outputs": [],
   "source": [
    "variables \n",
    "\n",
    "location:\n",
    "    address\n",
    "    City\n",
    "    State\n",
    "    zip\n",
    "\n",
    "    Status code\n",
    "    Expected date\n",
    "    \n",
    "    Groups with access code\n",
    "    access days time\n",
    "    cards accepted\n",
    "    \n",
    "    \n",
    "    EV level 1\n",
    "    EV Level 2\n",
    "    EV DC Fast count\n",
    "    \n",
    "    EV Network\n",
    "    EV Network Web\n",
    "    \n",
    "    \n",
    "    Geocode Status\n",
    "    Latitude \n",
    "    Longitude\n",
    "    \n",
    "    \n",
    "    date last confirmed\n",
    "    \n",
    "    ID\n",
    "    owner type code\n",
    "    Federal Agency ID\n",
    "    Federal agency Name\n",
    "    \n",
    "    Facility Type \n",
    "    EV Pricing\n",
    "    \n",
    "    EV On-site Renewable Source\n",
    "    \n",
    "    \n",
    "    \n"
   ]
  },
  {
   "cell_type": "code",
   "execution_count": null,
   "metadata": {},
   "outputs": [],
   "source": [
    "- find rows with all NAN"
   ]
  }
 ],
 "metadata": {
  "kernelspec": {
   "display_name": "Python 3",
   "language": "python",
   "name": "python3"
  },
  "language_info": {
   "codemirror_mode": {
    "name": "ipython",
    "version": 3
   },
   "file_extension": ".py",
   "mimetype": "text/x-python",
   "name": "python",
   "nbconvert_exporter": "python",
   "pygments_lexer": "ipython3",
   "version": "3.8.2"
  }
 },
 "nbformat": 4,
 "nbformat_minor": 4
}
