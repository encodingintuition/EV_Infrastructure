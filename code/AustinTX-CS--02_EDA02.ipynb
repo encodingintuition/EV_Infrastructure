{
 "cells": [
  {
   "cell_type": "markdown",
   "metadata": {},
   "source": [
    "# EV data - City of Austin \n",
    "\n",
    "### AustinTX-CS--02_EDA02.ipynb\n",
    "ref: Plug-In EVerywhere Level 2 Charging Station Network\n",
    "link: https://data.world/cityofaustin/k5hp-eece\n",
    "<hr>"
   ]
  },
  {
   "cell_type": "code",
   "execution_count": 2,
   "metadata": {},
   "outputs": [],
   "source": [
    "# Imports\n",
    "\n",
    "import pandas as pd\n",
    "import matplotlib.pyplot as plt"
   ]
  },
  {
   "cell_type": "code",
   "execution_count": 3,
   "metadata": {},
   "outputs": [
    {
     "name": "stdout",
     "output_type": "stream",
     "text": [
      "LICENSE       \u001b[34mQGIS\u001b[m\u001b[m/         README.md     \u001b[34mcode\u001b[m\u001b[m/\n",
      "\u001b[34mNotes\u001b[m\u001b[m/        README.ipynb  \u001b[34mclean-data\u001b[m\u001b[m/   \u001b[34mdata\u001b[m\u001b[m/\n"
     ]
    }
   ],
   "source": [
    "ls .."
   ]
  },
  {
   "cell_type": "code",
   "execution_count": 6,
   "metadata": {},
   "outputs": [],
   "source": [
    "df = pd.read_csv('../data/austin-tx/plug-in-everywhere-level-2-charging-station-network-1.csv')"
   ]
  },
  {
   "cell_type": "code",
   "execution_count": 7,
   "metadata": {},
   "outputs": [
    {
     "data": {
      "text/plain": [
       "(467, 17)"
      ]
     },
     "execution_count": 7,
     "metadata": {},
     "output_type": "execute_result"
    }
   ],
   "source": [
    "df.shape"
   ]
  },
  {
   "cell_type": "code",
   "execution_count": 9,
   "metadata": {},
   "outputs": [
    {
     "data": {
      "text/html": [
       "<div>\n",
       "<style scoped>\n",
       "    .dataframe tbody tr th:only-of-type {\n",
       "        vertical-align: middle;\n",
       "    }\n",
       "\n",
       "    .dataframe tbody tr th {\n",
       "        vertical-align: top;\n",
       "    }\n",
       "\n",
       "    .dataframe thead th {\n",
       "        text-align: right;\n",
       "    }\n",
       "</style>\n",
       "<table border=\"1\" class=\"dataframe\">\n",
       "  <thead>\n",
       "    <tr style=\"text-align: right;\">\n",
       "      <th></th>\n",
       "      <th>Station Name</th>\n",
       "      <th>Address  1</th>\n",
       "      <th>Address  2</th>\n",
       "      <th>City</th>\n",
       "      <th>State</th>\n",
       "      <th>Postal Code</th>\n",
       "      <th>No. of Ports</th>\n",
       "      <th>Pricing Policy</th>\n",
       "      <th>Usage Access</th>\n",
       "      <th>Category</th>\n",
       "      <th>Subcategory</th>\n",
       "      <th>Port 1: Connector Type</th>\n",
       "      <th>Voltage (V)</th>\n",
       "      <th>Port 2: Connector Type</th>\n",
       "      <th>New Georeferenced Column</th>\n",
       "      <th>Pricing</th>\n",
       "      <th>Power Select</th>\n",
       "    </tr>\n",
       "  </thead>\n",
       "  <tbody>\n",
       "    <tr>\n",
       "      <th>0</th>\n",
       "      <td>CATHERINE / CATHERINE 1</td>\n",
       "      <td>300 Barton Springs Rd</td>\n",
       "      <td>NaN</td>\n",
       "      <td>Austin</td>\n",
       "      <td>Texas</td>\n",
       "      <td>78704</td>\n",
       "      <td>2</td>\n",
       "      <td>$4.17/month PIE members $2/hr Non-Members</td>\n",
       "      <td>Multi-family residential</td>\n",
       "      <td>Multifamily Commercial</td>\n",
       "      <td>Apartment</td>\n",
       "      <td>J1772</td>\n",
       "      <td>240V</td>\n",
       "      <td>J1772</td>\n",
       "      <td>(30.259096, -97.747775)</td>\n",
       "      <td>$4.17/month PIE members $2/hr Non-Members</td>\n",
       "      <td>40A</td>\n",
       "    </tr>\n",
       "    <tr>\n",
       "      <th>1</th>\n",
       "      <td>AUSTIN HQ / STATION 1</td>\n",
       "      <td>4200 Smith School Dr</td>\n",
       "      <td>NaN</td>\n",
       "      <td>Austin</td>\n",
       "      <td>Texas</td>\n",
       "      <td>78744</td>\n",
       "      <td>2</td>\n",
       "      <td>$4.17/month PIE members $2/hr Non-Members</td>\n",
       "      <td>Commercial with unrestricted access</td>\n",
       "      <td>Workplace</td>\n",
       "      <td>General</td>\n",
       "      <td>J1772</td>\n",
       "      <td>240V</td>\n",
       "      <td>J1772</td>\n",
       "      <td>(30.192647, -97.714329)</td>\n",
       "      <td>$4.17/month PIE members $2/hr Non-Members</td>\n",
       "      <td>40A</td>\n",
       "    </tr>\n",
       "    <tr>\n",
       "      <th>2</th>\n",
       "      <td>SCHOOL / AKINS1</td>\n",
       "      <td>10701 S 1st St.</td>\n",
       "      <td>NaN</td>\n",
       "      <td>Austin</td>\n",
       "      <td>Texas</td>\n",
       "      <td>78748</td>\n",
       "      <td>2</td>\n",
       "      <td>$4.17/month PIE members $2/hr Non-Members</td>\n",
       "      <td>Public (Municipal, as in library, street, etc)</td>\n",
       "      <td>Education</td>\n",
       "      <td>High School / Other</td>\n",
       "      <td>J1772</td>\n",
       "      <td>240V</td>\n",
       "      <td>J1772</td>\n",
       "      <td>(30.147634, -97.801294)</td>\n",
       "      <td>$4.17/month PIE members $2/hr Non-Members</td>\n",
       "      <td>40A</td>\n",
       "    </tr>\n",
       "  </tbody>\n",
       "</table>\n",
       "</div>"
      ],
      "text/plain": [
       "              Station Name             Address  1 Address  2    City  State  \\\n",
       "0  CATHERINE / CATHERINE 1  300 Barton Springs Rd        NaN  Austin  Texas   \n",
       "1    AUSTIN HQ / STATION 1   4200 Smith School Dr        NaN  Austin  Texas   \n",
       "2          SCHOOL / AKINS1        10701 S 1st St.        NaN  Austin  Texas   \n",
       "\n",
       "   Postal Code  No. of Ports                             Pricing Policy  \\\n",
       "0        78704             2  $4.17/month PIE members $2/hr Non-Members   \n",
       "1        78744             2  $4.17/month PIE members $2/hr Non-Members   \n",
       "2        78748             2  $4.17/month PIE members $2/hr Non-Members   \n",
       "\n",
       "                                     Usage Access                Category  \\\n",
       "0                        Multi-family residential  Multifamily Commercial   \n",
       "1             Commercial with unrestricted access               Workplace   \n",
       "2  Public (Municipal, as in library, street, etc)               Education   \n",
       "\n",
       "           Subcategory Port 1: Connector Type Voltage (V)  \\\n",
       "0            Apartment                  J1772        240V   \n",
       "1              General                  J1772        240V   \n",
       "2  High School / Other                  J1772        240V   \n",
       "\n",
       "  Port 2: Connector Type New Georeferenced Column  \\\n",
       "0                  J1772  (30.259096, -97.747775)   \n",
       "1                  J1772  (30.192647, -97.714329)   \n",
       "2                  J1772  (30.147634, -97.801294)   \n",
       "\n",
       "                                    Pricing  Power Select  \n",
       "0  $4.17/month PIE members $2/hr Non-Members          40A  \n",
       "1  $4.17/month PIE members $2/hr Non-Members          40A  \n",
       "2  $4.17/month PIE members $2/hr Non-Members          40A  "
      ]
     },
     "execution_count": 9,
     "metadata": {},
     "output_type": "execute_result"
    }
   ],
   "source": [
    "df.head(3)"
   ]
  },
  {
   "cell_type": "markdown",
   "metadata": {},
   "source": [
    "<br>"
   ]
  },
  {
   "cell_type": "markdown",
   "metadata": {},
   "source": [
    "<hr>"
   ]
  },
  {
   "cell_type": "code",
   "execution_count": 10,
   "metadata": {},
   "outputs": [
    {
     "data": {
      "text/html": [
       "<div>\n",
       "<style scoped>\n",
       "    .dataframe tbody tr th:only-of-type {\n",
       "        vertical-align: middle;\n",
       "    }\n",
       "\n",
       "    .dataframe tbody tr th {\n",
       "        vertical-align: top;\n",
       "    }\n",
       "\n",
       "    .dataframe thead th {\n",
       "        text-align: right;\n",
       "    }\n",
       "</style>\n",
       "<table border=\"1\" class=\"dataframe\">\n",
       "  <thead>\n",
       "    <tr style=\"text-align: right;\">\n",
       "      <th></th>\n",
       "      <th>Station Name</th>\n",
       "      <th>Address  1</th>\n",
       "      <th>Address  2</th>\n",
       "      <th>City</th>\n",
       "      <th>State</th>\n",
       "      <th>Postal Code</th>\n",
       "      <th>No. of Ports</th>\n",
       "      <th>Pricing Policy</th>\n",
       "      <th>Usage Access</th>\n",
       "      <th>Category</th>\n",
       "      <th>Subcategory</th>\n",
       "      <th>Port 1: Connector Type</th>\n",
       "      <th>Voltage (V)</th>\n",
       "      <th>Port 2: Connector Type</th>\n",
       "      <th>New Georeferenced Column</th>\n",
       "      <th>Pricing</th>\n",
       "      <th>Power Select</th>\n",
       "    </tr>\n",
       "  </thead>\n",
       "  <tbody>\n",
       "    <tr>\n",
       "      <th>3</th>\n",
       "      <td>MONOGRAM / HANDICAP</td>\n",
       "      <td>615 W 7th St</td>\n",
       "      <td>NaN</td>\n",
       "      <td>Austin</td>\n",
       "      <td>Texas</td>\n",
       "      <td>78701</td>\n",
       "      <td>1</td>\n",
       "      <td>$4.17/month PIE members $2/hr Non-Members</td>\n",
       "      <td>Multi-family residential</td>\n",
       "      <td>Multifamily Commercial</td>\n",
       "      <td>Apartment</td>\n",
       "      <td>J1772</td>\n",
       "      <td>--</td>\n",
       "      <td>--</td>\n",
       "      <td>(30.270571, -97.748993)</td>\n",
       "      <td>$4.17/month PIE members $2/hr Non-Members</td>\n",
       "      <td>40A</td>\n",
       "    </tr>\n",
       "    <tr>\n",
       "      <th>37</th>\n",
       "      <td>HABITAT SUITES / SINGLE PORT</td>\n",
       "      <td>500 E Highland Mall Blvd</td>\n",
       "      <td>NaN</td>\n",
       "      <td>Austin</td>\n",
       "      <td>Texas</td>\n",
       "      <td>78752</td>\n",
       "      <td>1</td>\n",
       "      <td>$4.17/month PIE members $2/hr Non-Members</td>\n",
       "      <td>Commercial with unrestricted access</td>\n",
       "      <td>Workplace</td>\n",
       "      <td>General</td>\n",
       "      <td>J1772</td>\n",
       "      <td>--</td>\n",
       "      <td>--</td>\n",
       "      <td>(30.329076, -97.709553)</td>\n",
       "      <td>$4.17/month PIE members $2/hr Non-Members</td>\n",
       "      <td>40A</td>\n",
       "    </tr>\n",
       "    <tr>\n",
       "      <th>45</th>\n",
       "      <td>HANOVER / L5</td>\n",
       "      <td>110 San Antonio St</td>\n",
       "      <td>NaN</td>\n",
       "      <td>Austin</td>\n",
       "      <td>Texas</td>\n",
       "      <td>78701</td>\n",
       "      <td>1</td>\n",
       "      <td>$4.17/month PIE members $2/hr Non-Members</td>\n",
       "      <td>Commercial with restricted access</td>\n",
       "      <td>Multifamily Commercial</td>\n",
       "      <td>Apartment</td>\n",
       "      <td>J1772</td>\n",
       "      <td>--</td>\n",
       "      <td>--</td>\n",
       "      <td>(30.265299, -97.749118)</td>\n",
       "      <td>$4.17/month PIE members $2/hr Non-Members</td>\n",
       "      <td>40A</td>\n",
       "    </tr>\n",
       "  </tbody>\n",
       "</table>\n",
       "</div>"
      ],
      "text/plain": [
       "                    Station Name                Address  1 Address  2    City  \\\n",
       "3            MONOGRAM / HANDICAP              615 W 7th St        NaN  Austin   \n",
       "37  HABITAT SUITES / SINGLE PORT  500 E Highland Mall Blvd        NaN  Austin   \n",
       "45                  HANOVER / L5        110 San Antonio St        NaN  Austin   \n",
       "\n",
       "    State  Postal Code  No. of Ports  \\\n",
       "3   Texas        78701             1   \n",
       "37  Texas        78752             1   \n",
       "45  Texas        78701             1   \n",
       "\n",
       "                               Pricing Policy  \\\n",
       "3   $4.17/month PIE members $2/hr Non-Members   \n",
       "37  $4.17/month PIE members $2/hr Non-Members   \n",
       "45  $4.17/month PIE members $2/hr Non-Members   \n",
       "\n",
       "                           Usage Access                Category Subcategory  \\\n",
       "3              Multi-family residential  Multifamily Commercial   Apartment   \n",
       "37  Commercial with unrestricted access               Workplace     General   \n",
       "45    Commercial with restricted access  Multifamily Commercial   Apartment   \n",
       "\n",
       "   Port 1: Connector Type Voltage (V) Port 2: Connector Type  \\\n",
       "3                   J1772          --                     --   \n",
       "37                  J1772          --                     --   \n",
       "45                  J1772          --                     --   \n",
       "\n",
       "   New Georeferenced Column                                   Pricing   \\\n",
       "3   (30.270571, -97.748993)  $4.17/month PIE members $2/hr Non-Members   \n",
       "37  (30.329076, -97.709553)  $4.17/month PIE members $2/hr Non-Members   \n",
       "45  (30.265299, -97.749118)  $4.17/month PIE members $2/hr Non-Members   \n",
       "\n",
       "   Power Select  \n",
       "3           40A  \n",
       "37          40A  \n",
       "45          40A  "
      ]
     },
     "execution_count": 10,
     "metadata": {},
     "output_type": "execute_result"
    }
   ],
   "source": [
    "df[df['Voltage (V)'] != '240V'].head(3)"
   ]
  },
  {
   "cell_type": "markdown",
   "metadata": {},
   "source": [
    "<hr>"
   ]
  },
  {
   "cell_type": "markdown",
   "metadata": {},
   "source": [
    "#### Price Policy \n",
    "\n",
    "- $4.17/month PIE members $2/hr Non-Members\n",
    "- "
   ]
  },
  {
   "cell_type": "markdown",
   "metadata": {},
   "source": [
    "#### Number of Ports\n",
    "\n",
    "- 93.58% of Charging Stations have 2 ports\n"
   ]
  },
  {
   "cell_type": "markdown",
   "metadata": {},
   "source": [
    "#### Voltage \n",
    "\n",
    "- 240 V - "
   ]
  },
  {
   "cell_type": "markdown",
   "metadata": {},
   "source": [
    "#### Power Select \n",
    "\n",
    "- 97.16% (444) @ 40A \n",
    "- 2.4% (11) @ 30A\n",
    "- .44% (2) @ 20A"
   ]
  },
  {
   "cell_type": "markdown",
   "metadata": {},
   "source": [
    "#### Port 1: Connector Type\n",
    "\n",
    "- 92.7% (433) are J1772\n",
    "- 7.8% (34) are NEMA 5-20R"
   ]
  },
  {
   "cell_type": "markdown",
   "metadata": {},
   "source": [
    "#### Demographics\n",
    "\n",
    "** Create visualization to show relationship between: **\n",
    "\n",
    "    - Usage acess\n",
    "    - category\n",
    "    - subcategory \n",
    "    - maybe GIS\n"
   ]
  },
  {
   "cell_type": "markdown",
   "metadata": {},
   "source": [
    "Largest categories are:\n",
    "- 19.49% Mulifamily commercial \n",
    "- 25.05% parking\n",
    "- 37.47% workplace"
   ]
  },
  {
   "cell_type": "markdown",
   "metadata": {},
   "source": [
    "<hr>"
   ]
  }
 ],
 "metadata": {
  "kernelspec": {
   "display_name": "Python 3",
   "language": "python",
   "name": "python3"
  },
  "language_info": {
   "codemirror_mode": {
    "name": "ipython",
    "version": 3
   },
   "file_extension": ".py",
   "mimetype": "text/x-python",
   "name": "python",
   "nbconvert_exporter": "python",
   "pygments_lexer": "ipython3",
   "version": "3.8.2"
  }
 },
 "nbformat": 4,
 "nbformat_minor": 4
}
