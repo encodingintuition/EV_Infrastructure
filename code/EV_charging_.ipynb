{
 "cells": [
  {
   "cell_type": "code",
   "execution_count": null,
   "metadata": {},
   "outputs": [],
   "source": [
    "# \n",
    "<hr>"
   ]
  },
  {
   "cell_type": "code",
   "execution_count": 72,
   "metadata": {},
   "outputs": [],
   "source": [
    "# Import\n",
    "\n",
    "import pandas as pd\n",
    "\n",
    "import seaborn as sns\n",
    "sns.set(rc={'figure.figsize':(18,9)})"
   ]
  },
  {
   "cell_type": "code",
   "execution_count": 8,
   "metadata": {},
   "outputs": [],
   "source": [
    "#\n",
    "df = pd.read_csv('../clean_data/all_EV_stations-clean.csv',\n",
    "                low_memory = False)"
   ]
  },
  {
   "cell_type": "code",
   "execution_count": 9,
   "metadata": {},
   "outputs": [
    {
     "data": {
      "text/html": [
       "<div>\n",
       "<style scoped>\n",
       "    .dataframe tbody tr th:only-of-type {\n",
       "        vertical-align: middle;\n",
       "    }\n",
       "\n",
       "    .dataframe tbody tr th {\n",
       "        vertical-align: top;\n",
       "    }\n",
       "\n",
       "    .dataframe thead th {\n",
       "        text-align: right;\n",
       "    }\n",
       "</style>\n",
       "<table border=\"1\" class=\"dataframe\">\n",
       "  <thead>\n",
       "    <tr style=\"text-align: right;\">\n",
       "      <th></th>\n",
       "      <th>Station Name</th>\n",
       "      <th>Street Address</th>\n",
       "      <th>Intersection Directions</th>\n",
       "      <th>City</th>\n",
       "      <th>State</th>\n",
       "      <th>ZIP</th>\n",
       "      <th>Station Phone</th>\n",
       "      <th>Status Code</th>\n",
       "      <th>Expected Date</th>\n",
       "      <th>Groups With Access Code</th>\n",
       "      <th>...</th>\n",
       "      <th>Federal Agency Name</th>\n",
       "      <th>Open Date</th>\n",
       "      <th>EV Connector Types</th>\n",
       "      <th>Country</th>\n",
       "      <th>Access Code</th>\n",
       "      <th>Access Detail Code</th>\n",
       "      <th>Federal Agency Code</th>\n",
       "      <th>Facility Type</th>\n",
       "      <th>EV Pricing</th>\n",
       "      <th>EV On-Site Renewable Source</th>\n",
       "    </tr>\n",
       "  </thead>\n",
       "  <tbody>\n",
       "    <tr>\n",
       "      <th>0</th>\n",
       "      <td>LADWP - Truesdale Center</td>\n",
       "      <td>11797 Truesdale St</td>\n",
       "      <td>NaN</td>\n",
       "      <td>Sun Valley</td>\n",
       "      <td>CA</td>\n",
       "      <td>91352</td>\n",
       "      <td>NaN</td>\n",
       "      <td>E</td>\n",
       "      <td>NaN</td>\n",
       "      <td>Private</td>\n",
       "      <td>...</td>\n",
       "      <td>NaN</td>\n",
       "      <td>1999-10-15</td>\n",
       "      <td>CHADEMO J1772 J1772COMBO</td>\n",
       "      <td>US</td>\n",
       "      <td>private</td>\n",
       "      <td>NaN</td>\n",
       "      <td>NaN</td>\n",
       "      <td>UTILITY</td>\n",
       "      <td>NaN</td>\n",
       "      <td>NaN</td>\n",
       "    </tr>\n",
       "    <tr>\n",
       "      <th>1</th>\n",
       "      <td>LADWP - West LA District Office</td>\n",
       "      <td>1394 S Sepulveda Blvd</td>\n",
       "      <td>NaN</td>\n",
       "      <td>Los Angeles</td>\n",
       "      <td>CA</td>\n",
       "      <td>90024</td>\n",
       "      <td>NaN</td>\n",
       "      <td>E</td>\n",
       "      <td>NaN</td>\n",
       "      <td>Private</td>\n",
       "      <td>...</td>\n",
       "      <td>NaN</td>\n",
       "      <td>2020-02-28</td>\n",
       "      <td>J1772</td>\n",
       "      <td>US</td>\n",
       "      <td>private</td>\n",
       "      <td>NaN</td>\n",
       "      <td>NaN</td>\n",
       "      <td>UTILITY</td>\n",
       "      <td>Free</td>\n",
       "      <td>NaN</td>\n",
       "    </tr>\n",
       "  </tbody>\n",
       "</table>\n",
       "<p>2 rows × 36 columns</p>\n",
       "</div>"
      ],
      "text/plain": [
       "                      Station Name         Street Address  \\\n",
       "0         LADWP - Truesdale Center     11797 Truesdale St   \n",
       "1  LADWP - West LA District Office  1394 S Sepulveda Blvd   \n",
       "\n",
       "  Intersection Directions         City State    ZIP Station Phone Status Code  \\\n",
       "0                     NaN   Sun Valley    CA  91352           NaN           E   \n",
       "1                     NaN  Los Angeles    CA  90024           NaN           E   \n",
       "\n",
       "  Expected Date Groups With Access Code  ... Federal Agency Name   Open Date  \\\n",
       "0           NaN                 Private  ...                 NaN  1999-10-15   \n",
       "1           NaN                 Private  ...                 NaN  2020-02-28   \n",
       "\n",
       "         EV Connector Types  Country  Access Code Access Detail Code  \\\n",
       "0  CHADEMO J1772 J1772COMBO       US      private                NaN   \n",
       "1                     J1772       US      private                NaN   \n",
       "\n",
       "  Federal Agency Code Facility Type EV Pricing  EV On-Site Renewable Source  \n",
       "0                 NaN       UTILITY        NaN                          NaN  \n",
       "1                 NaN       UTILITY       Free                          NaN  \n",
       "\n",
       "[2 rows x 36 columns]"
      ]
     },
     "execution_count": 9,
     "metadata": {},
     "output_type": "execute_result"
    }
   ],
   "source": [
    "#\n",
    "df.head(2)"
   ]
  },
  {
   "cell_type": "code",
   "execution_count": 10,
   "metadata": {},
   "outputs": [
    {
     "data": {
      "text/plain": [
       "<bound method Series.unique of 0         39.0\n",
       "1          4.0\n",
       "2         22.0\n",
       "3         12.0\n",
       "4        311.0\n",
       "         ...  \n",
       "47554      2.0\n",
       "47555      2.0\n",
       "47556      6.0\n",
       "47557      2.0\n",
       "47558      2.0\n",
       "Name: EV Level2 EVSE Num, Length: 47559, dtype: float64>"
      ]
     },
     "execution_count": 10,
     "metadata": {},
     "output_type": "execute_result"
    }
   ],
   "source": [
    "df['EV Level2 EVSE Num'].unique\n"
   ]
  },
  {
   "cell_type": "code",
   "execution_count": null,
   "metadata": {},
   "outputs": [],
   "source": []
  },
  {
   "cell_type": "code",
   "execution_count": null,
   "metadata": {},
   "outputs": [],
   "source": [
    "# Level 2 \n"
   ]
  },
  {
   "cell_type": "code",
   "execution_count": 13,
   "metadata": {},
   "outputs": [
    {
     "data": {
      "text/plain": [
       "42662"
      ]
     },
     "execution_count": 13,
     "metadata": {},
     "output_type": "execute_result"
    }
   ],
   "source": [
    "# Number of charging locations with level 2 \n",
    "df[df['EV Level2 EVSE Num'] > 0]['ZIP'].count()"
   ]
  },
  {
   "cell_type": "code",
   "execution_count": 12,
   "metadata": {},
   "outputs": [
    {
     "data": {
      "text/plain": [
       "98894.0"
      ]
     },
     "execution_count": 12,
     "metadata": {},
     "output_type": "execute_result"
    }
   ],
   "source": [
    "# number of charging units in Total\n",
    "df[df['EV Level2 EVSE Num'] > 0 ]['EV Level2 EVSE Num'].sum() "
   ]
  },
  {
   "cell_type": "markdown",
   "metadata": {},
   "source": [
    "Close to a 100K charging units over 42K locations"
   ]
  },
  {
   "cell_type": "markdown",
   "metadata": {},
   "source": [
    "<br>"
   ]
  },
  {
   "cell_type": "code",
   "execution_count": 31,
   "metadata": {},
   "outputs": [
    {
     "data": {
      "text/plain": [
       "CA    0.298580\n",
       "NY    0.062632\n",
       "FL    0.052014\n",
       "TX    0.047302\n",
       "MA    0.043645\n",
       "WA    0.036262\n",
       "GA    0.032746\n",
       "Name: State, dtype: float64"
      ]
     },
     "execution_count": 31,
     "metadata": {},
     "output_type": "execute_result"
    }
   ],
   "source": [
    "#Locations per state\n",
    "df[df['EV Level2 EVSE Num'] > 0 ]['State'].value_counts(normalize = True).head(7)"
   ]
  },
  {
   "cell_type": "code",
   "execution_count": 36,
   "metadata": {},
   "outputs": [
    {
     "data": {
      "text/plain": [
       "0.573179879049271"
      ]
     },
     "execution_count": 36,
     "metadata": {},
     "output_type": "execute_result"
    }
   ],
   "source": [
    "#Locations per state\n",
    "df[df['EV Level2 EVSE Num'] > 0 ]['State'].value_counts(normalize = True).head(7).sum()"
   ]
  },
  {
   "cell_type": "code",
   "execution_count": 48,
   "metadata": {},
   "outputs": [
    {
     "data": {
      "text/plain": [
       "0.30675364492991425"
      ]
     },
     "execution_count": 48,
     "metadata": {},
     "output_type": "execute_result"
    }
   ],
   "source": [
    "# Top 18 States % minus .29.8% for CA \n",
    "df[df['EV Level2 EVSE Num'] > 0 ]['State'].value_counts(normalize = True).head(8).sum() - .298"
   ]
  },
  {
   "cell_type": "markdown",
   "metadata": {},
   "source": [
    "<span style=\"color:green\"> -----\n",
    "- CA has 29.8% of the EV Charging in the country.  \n",
    "- The top 7 States account for 57% of the EV Charging in the US.  \n",
    "- It takes the next top 8 states to equal CA % of the market  \n",
    "</span>\n"
   ]
  },
  {
   "cell_type": "code",
   "execution_count": 89,
   "metadata": {},
   "outputs": [
    {
     "data": {
      "image/png": "[encoded data removed]",
      "text/plain": [
       "<Figure size 792x504 with 1 Axes>"
      ]
     },
     "metadata": {},
     "output_type": "display_data"
    }
   ],
   "source": [
    "#Locations per state\n",
    "df[df['EV Level2 EVSE Num'] > 0 ]['State'].value_counts().plot(kind = 'bar', figsize = (11,7));"
   ]
  },
  {
   "cell_type": "code",
   "execution_count": 83,
   "metadata": {},
   "outputs": [
    {
     "data": {
      "image/png": "[encoded data removed]",
      "text/plain": [
       "<Figure size 936x504 with 1 Axes>"
      ]
     },
     "metadata": {},
     "output_type": "display_data"
    }
   ],
   "source": [
    "# Locations per state\n",
    "df[ ((df['EV Level2 EVSE Num'] > 0) & (df['State'] != 'CA' ))]['State'].value_counts().plot(kind = 'bar', figsize = (13,7));"
   ]
  },
  {
   "cell_type": "markdown",
   "metadata": {},
   "source": [
    "<span style=\"color:orange\">\n",
    "???\n",
    "    \n",
    "There appears to be 3 shelfs in the diagram, NY - CO, MD - NJ, and MN - AK.  \n",
    "    \n",
    " Is there a statistical phenomenon for this? \n",
    " Does this show different slopes.  \n",
    " If there are different slopes what does this mean?\n",
    "</span>"
   ]
  },
  {
   "cell_type": "markdown",
   "metadata": {},
   "source": [
    "<span style=\"color:green\">\n",
    "CA, FL, TX, MA, WA, GA, CO, MD all have over 1000 locations\n",
    "</ span>"
   ]
  },
  {
   "cell_type": "code",
   "execution_count": 84,
   "metadata": {
    "collapsed": true,
    "jupyter": {
     "outputs_hidden": true
    }
   },
   "outputs": [
    {
     "data": {
      "image/png": "[encoded data removed]",
      "text/plain": [
       "<Figure size 1296x648 with 1 Axes>"
      ]
     },
     "metadata": {},
     "output_type": "display_data"
    }
   ],
   "source": [
    "# Locatons per state w/o CA in Seaborn\n",
    "sns.histplot( data = df[ ((df['EV Level2 EVSE Num'] > 0) & (df['State'] != 'CA' ))],\n",
    "           x = 'State');"
   ]
  }
 ],
 "metadata": {
  "kernelspec": {
   "display_name": "Python 3",
   "language": "python",
   "name": "python3"
  },
  "language_info": {
   "codemirror_mode": {
    "name": "ipython",
    "version": 3
   },
   "file_extension": ".py",
   "mimetype": "text/x-python",
   "name": "python",
   "nbconvert_exporter": "python",
   "pygments_lexer": "ipython3",
   "version": "3.8.2"
  }
 },
 "nbformat": 4,
 "nbformat_minor": 4
}
