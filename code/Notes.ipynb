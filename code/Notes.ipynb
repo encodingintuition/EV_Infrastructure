{
 "cells": [
  {
   "cell_type": "markdown",
   "metadata": {},
   "source": [
    "Organizations "
   ]
  },
  {
   "cell_type": "markdown",
   "metadata": {},
   "source": [
    "## Joint Utilities of New York"
   ]
  },
  {
   "cell_type": "code",
   "execution_count": null,
   "metadata": {},
   "outputs": [],
   "source": [
    "Programs under Joint Utilities of NY\n",
    "- [EV Make-Ready Program](https://jointutilitiesofny.org/ev/make-ready)\n",
    "- [PowerReady](https://www.coned.com/en/our-energy-future/technology-innovation/electric-vehicles/make-ready-program)\n",
    "    - ConEdison program to cover 100% of infrastructure cost"
   ]
  },
  {
   "cell_type": "markdown",
   "metadata": {},
   "source": [
    "## New York State Energy Research and Development Authority (NYSERDA)."
   ]
  },
  {
   "cell_type": "code",
   "execution_count": null,
   "metadata": {},
   "outputs": [],
   "source": [
    "acts"
   ]
  },
  {
   "cell_type": "markdown",
   "metadata": {},
   "source": [
    "\n",
    "## New York Climate Leadership & Community Protection Act "
   ]
  },
  {
   "cell_type": "markdown",
   "metadata": {},
   "source": [
    "## [Memorandom of Understanding](https://afdc.energy.gov/laws/11081)\n",
    "\n",
    "- 8 states pledge to put 3.3 million EV cars on the road by end 2021\n",
    "- started July 2021\n",
    "- Connecticut, California, Maine, Maryland, Massachusetts, New Jersey, New York, Oregon, Rhode Island, and Vermont "
   ]
  },
  {
   "cell_type": "markdown",
   "metadata": {},
   "source": [
    "- [Charge NY](https://www.nyserda.ny.gov/All-Programs/Programs/ChargeNY)\n",
    "    - ..\n",
    "    - ..\n",
    "    - installing 10,000 electric charging stations by the end of 2021 \n",
    "- [Charge Ready NY](https://www.nyserda.ny.gov/All%20Programs/Programs/ChargeNY/Charge%20Electric/Charging%20Station%20Programs/Charge%20Ready%20NY)\n",
    "    - encourage commercial entities to buy and install stations. "
   ]
  },
  {
   "cell_type": "markdown",
   "metadata": {},
   "source": [
    "# Chargeing Station Types"
   ]
  },
  {
   "cell_type": "markdown",
   "metadata": {},
   "source": [
    "## Level I\n",
    "\n",
    "- L1\n",
    "- 120 volt \n",
    "- 24 - 40 hours for full charge\n",
    "\n",
    "- avg $600 "
   ]
  },
  {
   "cell_type": "markdown",
   "metadata": {},
   "source": [
    "## Level II\n",
    "\n",
    "- L2\n",
    "- 240 volt \n",
    "- 8 - 10 hours for full charge\n",
    "\n",
    "- avg $6,500  ($7,200)\n",
    "    - $3,200 for equipment   \n",
    "    - $3,340 for infrastructure installation $_2$\n",
    "    "
   ]
  },
  {
   "cell_type": "markdown",
   "metadata": {},
   "source": [
    "## Level III\n",
    "\n",
    "- Direct Current fast Charging (DCFC)\n",
    "- 480 volt direct current\n",
    "- 30 min provides up to 80%\n",
    "\n",
    "- avg $67,500 for 50 kilowatt plug\n",
    "- avg $100,000 for 150 kilowatt plug\n",
    "- roughly half toward equipment and half for intallation $_2$"
   ]
  },
  {
   "cell_type": "markdown",
   "metadata": {},
   "source": [
    "## Economics of Scale\n",
    "- ex. business with 8 EV charging plugs installs see a 50% reduction in cost per site $_2$\n",
    "\n",
    "## Cost per location\n",
    "- NYC sites cost 82% more than locations upstate $_2$"
   ]
  },
  {
   "cell_type": "markdown",
   "metadata": {},
   "source": [
    "## Soft Costs\n",
    "- Stripe parking lines\n",
    "- bollards to protect station\n",
    "- sinage"
   ]
  },
  {
   "cell_type": "code",
   "execution_count": null,
   "metadata": {},
   "outputs": [],
   "source": [
    "## Software\n",
    "\n",
    "- cloud-based software \n",
    "- connect to network of state utilities\n"
   ]
  },
  {
   "cell_type": "code",
   "execution_count": null,
   "metadata": {},
   "outputs": [],
   "source": [
    "## Cost\n",
    "\n",
    "- NYSERDA $17 million to 'Charge Ready NY'\n",
    "    - $4,000 rebates per port that installs level 2\n",
    "    - $500 additinal rebate per port installe din disadvantaged communities\n",
    "    "
   ]
  },
  {
   "cell_type": "code",
   "execution_count": null,
   "metadata": {},
   "outputs": [],
   "source": [
    "# Solutions\n",
    "- [ChargeParc](https://futureenergy.com/solutions/chargeparc/)"
   ]
  },
  {
   "cell_type": "markdown",
   "metadata": {},
   "source": [
    "# References:\n",
    "\n",
    "[$_2$](https://futureenergy.com/charge-ready-ny-ev-charging-program-new-yorks-electric-vehicle-initiative/ )"
   ]
  },
  {
   "cell_type": "markdown",
   "metadata": {},
   "source": [
    "people to note:\n",
    "- Sam DiNello Sam DiNello is Executive Vice President at Future Energy. He is an expert in the EV infrastructure space and passionate about innovative data-driven solutions that help companies access real-time intelligence for real-time action."
   ]
  },
  {
   "cell_type": "markdown",
   "metadata": {},
   "source": [
    "### Connection Types"
   ]
  },
  {
   "cell_type": "code",
   "execution_count": null,
   "metadata": {},
   "outputs": [],
   "source": []
  }
 ],
 "metadata": {
  "kernelspec": {
   "display_name": "Python 3",
   "language": "python",
   "name": "python3"
  },
  "language_info": {
   "codemirror_mode": {
    "name": "ipython",
    "version": 3
   },
   "file_extension": ".py",
   "mimetype": "text/x-python",
   "name": "python",
   "nbconvert_exporter": "python",
   "pygments_lexer": "ipython3",
   "version": "3.8.2"
  }
 },
 "nbformat": 4,
 "nbformat_minor": 4
}
