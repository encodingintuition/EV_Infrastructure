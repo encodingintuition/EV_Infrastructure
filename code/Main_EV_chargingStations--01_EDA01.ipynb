{
 "cells": [
  {
   "cell_type": "markdown",
   "metadata": {},
   "source": [
    "# Electric Vehicle Charging Stations \n",
    "\n",
    "### \n",
    "Data: U.S. Department of Energy  \n",
    "https://afdc.energy.gov/fuels/electricity_locations.html#/analyze?country=US&fuel=ELEC&ev_levels=all \n",
    "\n",
    "<hr>"
   ]
  },
  {
   "cell_type": "markdown",
   "metadata": {},
   "source": [
    "# Import"
   ]
  },
  {
   "cell_type": "code",
   "execution_count": 2,
   "metadata": {},
   "outputs": [
    {
     "data": {
      "text/plain": [
       "\"from pandas.io.json import json_normalize\\nimport json\\n#\\nimport matplotlib.pyplot as plt\\nimport matplotlib.dates as mdates\\nfrom matplotlib.dates import DateFormatter\\n\\nimport seaborn as sns\\nimport numpy as np\\n\\n# set figure size \\nsns.set(rc={'figure.figsize':(21,9)})\\n\\n\\n\\nfrom pandas.io.json import json_normalize\\nimport json\""
      ]
     },
     "execution_count": 2,
     "metadata": {},
     "output_type": "execute_result"
    }
   ],
   "source": [
    "# Imports\n",
    "\n",
    "import pandas as pd\n",
    "import numpy as np \n",
    "\n",
    "# vis\n",
    "import matplotlib.pyplot as plt\n",
    "\n",
    "# nan\n",
    "import missingno as msno\n",
    "\n",
    "\n",
    "\n",
    "\n",
    "\n",
    "\n",
    "\n",
    "\n",
    "\"\"\"from pandas.io.json import json_normalize\n",
    "import json\n",
    "#\n",
    "import matplotlib.pyplot as plt\n",
    "import matplotlib.dates as mdates\n",
    "from matplotlib.dates import DateFormatter\n",
    "\n",
    "import seaborn as sns\n",
    "import numpy as np\n",
    "\n",
    "# set figure size \n",
    "sns.set(rc={'figure.figsize':(21,9)})\n",
    "\n",
    "\n",
    "\n",
    "from pandas.io.json import json_normalize\n",
    "import json\"\"\""
   ]
  },
  {
   "cell_type": "markdown",
   "metadata": {},
   "source": [
    "# Data Ingestion\n",
    "<hr>"
   ]
  },
  {
   "cell_type": "code",
   "execution_count": 3,
   "metadata": {},
   "outputs": [
    {
     "name": "stdout",
     "output_type": "stream",
     "text": [
      "\u001b[34maustin-tx\u001b[m\u001b[m         \u001b[34mboundaries\u001b[m\u001b[m        \u001b[34mstations-gov-site\u001b[m\u001b[m\n"
     ]
    }
   ],
   "source": [
    "# file hunting\n",
    "! ls ../data\n"
   ]
  },
  {
   "cell_type": "code",
   "execution_count": 4,
   "metadata": {},
   "outputs": [],
   "source": [
    "# read data\n",
    "df = pd.read_csv('../data/stations-gov-site/all_EV_stations.csv', low_memory=False)"
   ]
  },
  {
   "cell_type": "code",
   "execution_count": 5,
   "metadata": {},
   "outputs": [
    {
     "data": {
      "text/plain": [
       "(47559, 65)"
      ]
     },
     "execution_count": 5,
     "metadata": {},
     "output_type": "execute_result"
    }
   ],
   "source": [
    "# shape\n",
    "df.shape"
   ]
  },
  {
   "cell_type": "code",
   "execution_count": 6,
   "metadata": {},
   "outputs": [
    {
     "data": {
      "text/html": [
       "<div>\n",
       "<style scoped>\n",
       "    .dataframe tbody tr th:only-of-type {\n",
       "        vertical-align: middle;\n",
       "    }\n",
       "\n",
       "    .dataframe tbody tr th {\n",
       "        vertical-align: top;\n",
       "    }\n",
       "\n",
       "    .dataframe thead th {\n",
       "        text-align: right;\n",
       "    }\n",
       "</style>\n",
       "<table border=\"1\" class=\"dataframe\">\n",
       "  <thead>\n",
       "    <tr style=\"text-align: right;\">\n",
       "      <th></th>\n",
       "      <th>Fuel Type Code</th>\n",
       "      <th>Station Name</th>\n",
       "      <th>Street Address</th>\n",
       "      <th>Intersection Directions</th>\n",
       "      <th>City</th>\n",
       "      <th>State</th>\n",
       "      <th>ZIP</th>\n",
       "      <th>Plus4</th>\n",
       "      <th>Station Phone</th>\n",
       "      <th>Status Code</th>\n",
       "      <th>...</th>\n",
       "      <th>EV Pricing (French)</th>\n",
       "      <th>LPG Nozzle Types</th>\n",
       "      <th>Hydrogen Pressures</th>\n",
       "      <th>Hydrogen Standards</th>\n",
       "      <th>CNG Fill Type Code</th>\n",
       "      <th>CNG PSI</th>\n",
       "      <th>CNG Vehicle Class</th>\n",
       "      <th>LNG Vehicle Class</th>\n",
       "      <th>EV On-Site Renewable Source</th>\n",
       "      <th>Restricted Access</th>\n",
       "    </tr>\n",
       "  </thead>\n",
       "  <tbody>\n",
       "    <tr>\n",
       "      <th>0</th>\n",
       "      <td>ELEC</td>\n",
       "      <td>LADWP - Truesdale Center</td>\n",
       "      <td>11797 Truesdale St</td>\n",
       "      <td>NaN</td>\n",
       "      <td>Sun Valley</td>\n",
       "      <td>CA</td>\n",
       "      <td>91352</td>\n",
       "      <td>NaN</td>\n",
       "      <td>NaN</td>\n",
       "      <td>E</td>\n",
       "      <td>...</td>\n",
       "      <td>NaN</td>\n",
       "      <td>NaN</td>\n",
       "      <td>NaN</td>\n",
       "      <td>NaN</td>\n",
       "      <td>NaN</td>\n",
       "      <td>NaN</td>\n",
       "      <td>NaN</td>\n",
       "      <td>NaN</td>\n",
       "      <td>NaN</td>\n",
       "      <td>NaN</td>\n",
       "    </tr>\n",
       "    <tr>\n",
       "      <th>1</th>\n",
       "      <td>ELEC</td>\n",
       "      <td>LADWP - West LA District Office</td>\n",
       "      <td>1394 S Sepulveda Blvd</td>\n",
       "      <td>NaN</td>\n",
       "      <td>Los Angeles</td>\n",
       "      <td>CA</td>\n",
       "      <td>90024</td>\n",
       "      <td>NaN</td>\n",
       "      <td>NaN</td>\n",
       "      <td>E</td>\n",
       "      <td>...</td>\n",
       "      <td>NaN</td>\n",
       "      <td>NaN</td>\n",
       "      <td>NaN</td>\n",
       "      <td>NaN</td>\n",
       "      <td>NaN</td>\n",
       "      <td>NaN</td>\n",
       "      <td>NaN</td>\n",
       "      <td>NaN</td>\n",
       "      <td>NaN</td>\n",
       "      <td>NaN</td>\n",
       "    </tr>\n",
       "    <tr>\n",
       "      <th>2</th>\n",
       "      <td>ELEC</td>\n",
       "      <td>Southern California Edison - Rosemead Office B...</td>\n",
       "      <td>2244 Walnut Grove Ave</td>\n",
       "      <td>NaN</td>\n",
       "      <td>Rosemead</td>\n",
       "      <td>CA</td>\n",
       "      <td>91770</td>\n",
       "      <td>NaN</td>\n",
       "      <td>NaN</td>\n",
       "      <td>T</td>\n",
       "      <td>...</td>\n",
       "      <td>NaN</td>\n",
       "      <td>NaN</td>\n",
       "      <td>NaN</td>\n",
       "      <td>NaN</td>\n",
       "      <td>NaN</td>\n",
       "      <td>NaN</td>\n",
       "      <td>NaN</td>\n",
       "      <td>NaN</td>\n",
       "      <td>NaN</td>\n",
       "      <td>NaN</td>\n",
       "    </tr>\n",
       "  </tbody>\n",
       "</table>\n",
       "<p>3 rows × 65 columns</p>\n",
       "</div>"
      ],
      "text/plain": [
       "  Fuel Type Code                                       Station Name  \\\n",
       "0           ELEC                           LADWP - Truesdale Center   \n",
       "1           ELEC                    LADWP - West LA District Office   \n",
       "2           ELEC  Southern California Edison - Rosemead Office B...   \n",
       "\n",
       "          Street Address Intersection Directions         City State    ZIP  \\\n",
       "0     11797 Truesdale St                     NaN   Sun Valley    CA  91352   \n",
       "1  1394 S Sepulveda Blvd                     NaN  Los Angeles    CA  90024   \n",
       "2  2244 Walnut Grove Ave                     NaN     Rosemead    CA  91770   \n",
       "\n",
       "   Plus4 Station Phone Status Code  ... EV Pricing (French) LPG Nozzle Types  \\\n",
       "0    NaN           NaN           E  ...                 NaN              NaN   \n",
       "1    NaN           NaN           E  ...                 NaN              NaN   \n",
       "2    NaN           NaN           T  ...                 NaN              NaN   \n",
       "\n",
       "  Hydrogen Pressures Hydrogen Standards  CNG Fill Type Code  CNG PSI  \\\n",
       "0                NaN                NaN                 NaN      NaN   \n",
       "1                NaN                NaN                 NaN      NaN   \n",
       "2                NaN                NaN                 NaN      NaN   \n",
       "\n",
       "   CNG Vehicle Class  LNG Vehicle Class  EV On-Site Renewable Source  \\\n",
       "0                NaN                NaN                          NaN   \n",
       "1                NaN                NaN                          NaN   \n",
       "2                NaN                NaN                          NaN   \n",
       "\n",
       "   Restricted Access  \n",
       "0                NaN  \n",
       "1                NaN  \n",
       "2                NaN  \n",
       "\n",
       "[3 rows x 65 columns]"
      ]
     },
     "execution_count": 6,
     "metadata": {},
     "output_type": "execute_result"
    }
   ],
   "source": [
    "# quick look\n",
    "df.head(3)"
   ]
  },
  {
   "cell_type": "code",
   "execution_count": 7,
   "metadata": {},
   "outputs": [
    {
     "data": {
      "text/html": [
       "<div>\n",
       "<style scoped>\n",
       "    .dataframe tbody tr th:only-of-type {\n",
       "        vertical-align: middle;\n",
       "    }\n",
       "\n",
       "    .dataframe tbody tr th {\n",
       "        vertical-align: top;\n",
       "    }\n",
       "\n",
       "    .dataframe thead th {\n",
       "        text-align: right;\n",
       "    }\n",
       "</style>\n",
       "<table border=\"1\" class=\"dataframe\">\n",
       "  <thead>\n",
       "    <tr style=\"text-align: right;\">\n",
       "      <th></th>\n",
       "      <th>Fuel Type Code</th>\n",
       "      <th>Station Name</th>\n",
       "      <th>Street Address</th>\n",
       "      <th>Intersection Directions</th>\n",
       "      <th>City</th>\n",
       "      <th>State</th>\n",
       "      <th>ZIP</th>\n",
       "      <th>Plus4</th>\n",
       "      <th>Station Phone</th>\n",
       "      <th>Status Code</th>\n",
       "      <th>...</th>\n",
       "      <th>EV Pricing (French)</th>\n",
       "      <th>LPG Nozzle Types</th>\n",
       "      <th>Hydrogen Pressures</th>\n",
       "      <th>Hydrogen Standards</th>\n",
       "      <th>CNG Fill Type Code</th>\n",
       "      <th>CNG PSI</th>\n",
       "      <th>CNG Vehicle Class</th>\n",
       "      <th>LNG Vehicle Class</th>\n",
       "      <th>EV On-Site Renewable Source</th>\n",
       "      <th>Restricted Access</th>\n",
       "    </tr>\n",
       "  </thead>\n",
       "  <tbody>\n",
       "    <tr>\n",
       "      <th>47556</th>\n",
       "      <td>ELEC</td>\n",
       "      <td>Atlantico at Miramar</td>\n",
       "      <td>12121 Southwest 43rd Street</td>\n",
       "      <td>NaN</td>\n",
       "      <td>Miramar</td>\n",
       "      <td>FL</td>\n",
       "      <td>33025</td>\n",
       "      <td>NaN</td>\n",
       "      <td>800-663-5633</td>\n",
       "      <td>E</td>\n",
       "      <td>...</td>\n",
       "      <td>NaN</td>\n",
       "      <td>NaN</td>\n",
       "      <td>NaN</td>\n",
       "      <td>NaN</td>\n",
       "      <td>NaN</td>\n",
       "      <td>NaN</td>\n",
       "      <td>NaN</td>\n",
       "      <td>NaN</td>\n",
       "      <td>NaN</td>\n",
       "      <td>NaN</td>\n",
       "    </tr>\n",
       "    <tr>\n",
       "      <th>47557</th>\n",
       "      <td>ELEC</td>\n",
       "      <td>CORK FACTORY CORK 7</td>\n",
       "      <td>2350 Railroad St</td>\n",
       "      <td>NaN</td>\n",
       "      <td>Pittsburgh</td>\n",
       "      <td>PA</td>\n",
       "      <td>15222</td>\n",
       "      <td>NaN</td>\n",
       "      <td>888-758-4389</td>\n",
       "      <td>E</td>\n",
       "      <td>...</td>\n",
       "      <td>NaN</td>\n",
       "      <td>NaN</td>\n",
       "      <td>NaN</td>\n",
       "      <td>NaN</td>\n",
       "      <td>NaN</td>\n",
       "      <td>NaN</td>\n",
       "      <td>NaN</td>\n",
       "      <td>NaN</td>\n",
       "      <td>NaN</td>\n",
       "      <td>NaN</td>\n",
       "    </tr>\n",
       "    <tr>\n",
       "      <th>47558</th>\n",
       "      <td>ELEC</td>\n",
       "      <td>LAS CRUCES DOWNTOWN PLAZA</td>\n",
       "      <td>101 E Organ Ave</td>\n",
       "      <td>NaN</td>\n",
       "      <td>Las Cruces</td>\n",
       "      <td>NM</td>\n",
       "      <td>88001</td>\n",
       "      <td>NaN</td>\n",
       "      <td>888-758-4389</td>\n",
       "      <td>E</td>\n",
       "      <td>...</td>\n",
       "      <td>NaN</td>\n",
       "      <td>NaN</td>\n",
       "      <td>NaN</td>\n",
       "      <td>NaN</td>\n",
       "      <td>NaN</td>\n",
       "      <td>NaN</td>\n",
       "      <td>NaN</td>\n",
       "      <td>NaN</td>\n",
       "      <td>NaN</td>\n",
       "      <td>NaN</td>\n",
       "    </tr>\n",
       "  </tbody>\n",
       "</table>\n",
       "<p>3 rows × 65 columns</p>\n",
       "</div>"
      ],
      "text/plain": [
       "      Fuel Type Code               Station Name               Street Address  \\\n",
       "47556           ELEC       Atlantico at Miramar  12121 Southwest 43rd Street   \n",
       "47557           ELEC        CORK FACTORY CORK 7             2350 Railroad St   \n",
       "47558           ELEC  LAS CRUCES DOWNTOWN PLAZA              101 E Organ Ave   \n",
       "\n",
       "      Intersection Directions        City State    ZIP  Plus4 Station Phone  \\\n",
       "47556                     NaN     Miramar    FL  33025    NaN  800-663-5633   \n",
       "47557                     NaN  Pittsburgh    PA  15222    NaN  888-758-4389   \n",
       "47558                     NaN  Las Cruces    NM  88001    NaN  888-758-4389   \n",
       "\n",
       "      Status Code  ... EV Pricing (French) LPG Nozzle Types  \\\n",
       "47556           E  ...                 NaN              NaN   \n",
       "47557           E  ...                 NaN              NaN   \n",
       "47558           E  ...                 NaN              NaN   \n",
       "\n",
       "      Hydrogen Pressures Hydrogen Standards  CNG Fill Type Code  CNG PSI  \\\n",
       "47556                NaN                NaN                 NaN      NaN   \n",
       "47557                NaN                NaN                 NaN      NaN   \n",
       "47558                NaN                NaN                 NaN      NaN   \n",
       "\n",
       "       CNG Vehicle Class  LNG Vehicle Class  EV On-Site Renewable Source  \\\n",
       "47556                NaN                NaN                          NaN   \n",
       "47557                NaN                NaN                          NaN   \n",
       "47558                NaN                NaN                          NaN   \n",
       "\n",
       "       Restricted Access  \n",
       "47556                NaN  \n",
       "47557                NaN  \n",
       "47558                NaN  \n",
       "\n",
       "[3 rows x 65 columns]"
      ]
     },
     "execution_count": 7,
     "metadata": {},
     "output_type": "execute_result"
    }
   ],
   "source": [
    "# tail\n",
    "df.tail(3)"
   ]
  },
  {
   "cell_type": "code",
   "execution_count": 8,
   "metadata": {},
   "outputs": [
    {
     "name": "stdout",
     "output_type": "stream",
     "text": [
      "<class 'pandas.core.frame.DataFrame'>\n",
      "RangeIndex: 47559 entries, 0 to 47558\n",
      "Data columns (total 65 columns):\n",
      " #   Column                            Non-Null Count  Dtype  \n",
      "---  ------                            --------------  -----  \n",
      " 0   Fuel Type Code                    47559 non-null  object \n",
      " 1   Station Name                      47559 non-null  object \n",
      " 2   Street Address                    47559 non-null  object \n",
      " 3   Intersection Directions           2361 non-null   object \n",
      " 4   City                              47559 non-null  object \n",
      " 5   State                             47559 non-null  object \n",
      " 6   ZIP                               47559 non-null  object \n",
      " 7   Plus4                             0 non-null      float64\n",
      " 8   Station Phone                     44765 non-null  object \n",
      " 9   Status Code                       47559 non-null  object \n",
      " 10  Expected Date                     154 non-null    object \n",
      " 11  Groups With Access Code           47559 non-null  object \n",
      " 12  Access Days Time                  45476 non-null  object \n",
      " 13  Cards Accepted                    1011 non-null   object \n",
      " 14  BD Blends                         0 non-null      float64\n",
      " 15  NG Fill Type Code                 0 non-null      float64\n",
      " 16  NG PSI                            0 non-null      float64\n",
      " 17  EV Level1 EVSE Num                1017 non-null   float64\n",
      " 18  EV Level2 EVSE Num                42662 non-null  float64\n",
      " 19  EV DC Fast Count                  5509 non-null   float64\n",
      " 20  EV Other Info                     36 non-null     object \n",
      " 21  EV Network                        47553 non-null  object \n",
      " 22  EV Network Web                    39378 non-null  object \n",
      " 23  Geocode Status                    47559 non-null  object \n",
      " 24  Latitude                          47559 non-null  float64\n",
      " 25  Longitude                         47559 non-null  float64\n",
      " 26  Date Last Confirmed               47423 non-null  object \n",
      " 27  ID                                47559 non-null  int64  \n",
      " 28  Updated At                        47559 non-null  object \n",
      " 29  Owner Type Code                   15920 non-null  object \n",
      " 30  Federal Agency ID                 904 non-null    float64\n",
      " 31  Federal Agency Name               904 non-null    object \n",
      " 32  Open Date                         47456 non-null  object \n",
      " 33  Hydrogen Status Link              0 non-null      float64\n",
      " 34  NG Vehicle Class                  0 non-null      float64\n",
      " 35  LPG Primary                       0 non-null      float64\n",
      " 36  E85 Blender Pump                  0 non-null      float64\n",
      " 37  EV Connector Types                47539 non-null  object \n",
      " 38  Country                           47559 non-null  object \n",
      " 39  Intersection Directions (French)  0 non-null      float64\n",
      " 40  Access Days Time (French)         0 non-null      float64\n",
      " 41  BD Blends (French)                0 non-null      float64\n",
      " 42  Groups With Access Code (French)  47559 non-null  object \n",
      " 43  Hydrogen Is Retail                0 non-null      float64\n",
      " 44  Access Code                       47559 non-null  object \n",
      " 45  Access Detail Code                2765 non-null   object \n",
      " 46  Federal Agency Code               904 non-null    object \n",
      " 47  Facility Type                     14202 non-null  object \n",
      " 48  CNG Dispenser Num                 0 non-null      float64\n",
      " 49  CNG On-Site Renewable Source      0 non-null      float64\n",
      " 50  CNG Total Compression Capacity    0 non-null      float64\n",
      " 51  CNG Storage Capacity              0 non-null      float64\n",
      " 52  LNG On-Site Renewable Source      0 non-null      float64\n",
      " 53  E85 Other Ethanol Blends          0 non-null      float64\n",
      " 54  EV Pricing                        14298 non-null  object \n",
      " 55  EV Pricing (French)               0 non-null      float64\n",
      " 56  LPG Nozzle Types                  0 non-null      float64\n",
      " 57  Hydrogen Pressures                0 non-null      float64\n",
      " 58  Hydrogen Standards                0 non-null      float64\n",
      " 59  CNG Fill Type Code                0 non-null      float64\n",
      " 60  CNG PSI                           0 non-null      float64\n",
      " 61  CNG Vehicle Class                 0 non-null      float64\n",
      " 62  LNG Vehicle Class                 0 non-null      float64\n",
      " 63  EV On-Site Renewable Source       347 non-null    object \n",
      " 64  Restricted Access                 0 non-null      float64\n",
      "dtypes: float64(33), int64(1), object(31)\n",
      "memory usage: 23.6+ MB\n"
     ]
    }
   ],
   "source": [
    "# info()\n",
    "\n",
    "df.info()"
   ]
  },
  {
   "cell_type": "code",
   "execution_count": 9,
   "metadata": {},
   "outputs": [
    {
     "data": {
      "text/html": [
       "<div>\n",
       "<style scoped>\n",
       "    .dataframe tbody tr th:only-of-type {\n",
       "        vertical-align: middle;\n",
       "    }\n",
       "\n",
       "    .dataframe tbody tr th {\n",
       "        vertical-align: top;\n",
       "    }\n",
       "\n",
       "    .dataframe thead th {\n",
       "        text-align: right;\n",
       "    }\n",
       "</style>\n",
       "<table border=\"1\" class=\"dataframe\">\n",
       "  <thead>\n",
       "    <tr style=\"text-align: right;\">\n",
       "      <th></th>\n",
       "      <th>1384</th>\n",
       "      <th>13052</th>\n",
       "      <th>8872</th>\n",
       "    </tr>\n",
       "  </thead>\n",
       "  <tbody>\n",
       "    <tr>\n",
       "      <th>Fuel Type Code</th>\n",
       "      <td>ELEC</td>\n",
       "      <td>ELEC</td>\n",
       "      <td>ELEC</td>\n",
       "    </tr>\n",
       "    <tr>\n",
       "      <th>Station Name</th>\n",
       "      <td>Dave Solon Nissan</td>\n",
       "      <td>Marble Works Partnership - Tesla Destination</td>\n",
       "      <td>Delray Marketplace - Tesla Supercharger</td>\n",
       "    </tr>\n",
       "    <tr>\n",
       "      <th>Street Address</th>\n",
       "      <td>2525 W US Highway 50</td>\n",
       "      <td>228 Maple St</td>\n",
       "      <td>14851 Lyons Road</td>\n",
       "    </tr>\n",
       "    <tr>\n",
       "      <th>Intersection Directions</th>\n",
       "      <td>NaN</td>\n",
       "      <td>NaN</td>\n",
       "      <td>NaN</td>\n",
       "    </tr>\n",
       "    <tr>\n",
       "      <th>City</th>\n",
       "      <td>Pueblo</td>\n",
       "      <td>Middlebury</td>\n",
       "      <td>Delray Beach</td>\n",
       "    </tr>\n",
       "    <tr>\n",
       "      <th>...</th>\n",
       "      <td>...</td>\n",
       "      <td>...</td>\n",
       "      <td>...</td>\n",
       "    </tr>\n",
       "    <tr>\n",
       "      <th>CNG PSI</th>\n",
       "      <td>NaN</td>\n",
       "      <td>NaN</td>\n",
       "      <td>NaN</td>\n",
       "    </tr>\n",
       "    <tr>\n",
       "      <th>CNG Vehicle Class</th>\n",
       "      <td>NaN</td>\n",
       "      <td>NaN</td>\n",
       "      <td>NaN</td>\n",
       "    </tr>\n",
       "    <tr>\n",
       "      <th>LNG Vehicle Class</th>\n",
       "      <td>NaN</td>\n",
       "      <td>NaN</td>\n",
       "      <td>NaN</td>\n",
       "    </tr>\n",
       "    <tr>\n",
       "      <th>EV On-Site Renewable Source</th>\n",
       "      <td>NaN</td>\n",
       "      <td>NaN</td>\n",
       "      <td>NaN</td>\n",
       "    </tr>\n",
       "    <tr>\n",
       "      <th>Restricted Access</th>\n",
       "      <td>NaN</td>\n",
       "      <td>NaN</td>\n",
       "      <td>NaN</td>\n",
       "    </tr>\n",
       "  </tbody>\n",
       "</table>\n",
       "<p>65 rows × 3 columns</p>\n",
       "</div>"
      ],
      "text/plain": [
       "                                            1384   \\\n",
       "Fuel Type Code                               ELEC   \n",
       "Station Name                    Dave Solon Nissan   \n",
       "Street Address               2525 W US Highway 50   \n",
       "Intersection Directions                       NaN   \n",
       "City                                       Pueblo   \n",
       "...                                           ...   \n",
       "CNG PSI                                       NaN   \n",
       "CNG Vehicle Class                             NaN   \n",
       "LNG Vehicle Class                             NaN   \n",
       "EV On-Site Renewable Source                   NaN   \n",
       "Restricted Access                             NaN   \n",
       "\n",
       "                                                                    13052  \\\n",
       "Fuel Type Code                                                       ELEC   \n",
       "Station Name                 Marble Works Partnership - Tesla Destination   \n",
       "Street Address                                               228 Maple St   \n",
       "Intersection Directions                                               NaN   \n",
       "City                                                           Middlebury   \n",
       "...                                                                   ...   \n",
       "CNG PSI                                                               NaN   \n",
       "CNG Vehicle Class                                                     NaN   \n",
       "LNG Vehicle Class                                                     NaN   \n",
       "EV On-Site Renewable Source                                           NaN   \n",
       "Restricted Access                                                     NaN   \n",
       "\n",
       "                                                               8872   \n",
       "Fuel Type Code                                                  ELEC  \n",
       "Station Name                 Delray Marketplace - Tesla Supercharger  \n",
       "Street Address                                      14851 Lyons Road  \n",
       "Intersection Directions                                          NaN  \n",
       "City                                                    Delray Beach  \n",
       "...                                                              ...  \n",
       "CNG PSI                                                          NaN  \n",
       "CNG Vehicle Class                                                NaN  \n",
       "LNG Vehicle Class                                                NaN  \n",
       "EV On-Site Renewable Source                                      NaN  \n",
       "Restricted Access                                                NaN  \n",
       "\n",
       "[65 rows x 3 columns]"
      ]
     },
     "execution_count": 9,
     "metadata": {},
     "output_type": "execute_result"
    }
   ],
   "source": [
    "# Quick look\n",
    "\n",
    "df.sample(3).T"
   ]
  },
  {
   "cell_type": "code",
   "execution_count": null,
   "metadata": {},
   "outputs": [],
   "source": []
  },
  {
   "cell_type": "code",
   "execution_count": null,
   "metadata": {},
   "outputs": [],
   "source": []
  },
  {
   "cell_type": "markdown",
   "metadata": {},
   "source": [
    "# Quick EDA\n",
    "<hr>"
   ]
  },
  {
   "cell_type": "markdown",
   "metadata": {},
   "source": [
    "#### Unique Values per Feature"
   ]
  },
  {
   "cell_type": "code",
   "execution_count": 10,
   "metadata": {},
   "outputs": [
    {
     "data": {
      "image/png": "[encoded data removed]",
      "text/plain": [
       "<Figure size 1080x288 with 1 Axes>"
      ]
     },
     "metadata": {
      "needs_background": "light"
     },
     "output_type": "display_data"
    }
   ],
   "source": [
    "# See how many unique entries is in each numerical feature \n",
    "unique_values = df.select_dtypes(include= 'number').nunique().sort_values()\n",
    "\n",
    "# Plot unique values with a y-axis in log-scale\n",
    "unique_values.plot.bar(logy=True, figsize = (15,4), title='Unique values per Feature');\n"
   ]
  },
  {
   "cell_type": "code",
   "execution_count": 11,
   "metadata": {},
   "outputs": [
    {
     "data": {
      "text/plain": [
       "Plus4                                   0\n",
       "CNG Vehicle Class                       0\n",
       "CNG PSI                                 0\n",
       "CNG Fill Type Code                      0\n",
       "Hydrogen Standards                      0\n",
       "Hydrogen Pressures                      0\n",
       "LPG Nozzle Types                        0\n",
       "EV Pricing (French)                     0\n",
       "E85 Other Ethanol Blends                0\n",
       "LNG On-Site Renewable Source            0\n",
       "CNG Storage Capacity                    0\n",
       "CNG Total Compression Capacity          0\n",
       "CNG On-Site Renewable Source            0\n",
       "CNG Dispenser Num                       0\n",
       "Hydrogen Is Retail                      0\n",
       "BD Blends (French)                      0\n",
       "Access Days Time (French)               0\n",
       "Intersection Directions (French)        0\n",
       "BD Blends                               0\n",
       "NG Fill Type Code                       0\n",
       "NG PSI                                  0\n",
       "LNG Vehicle Class                       0\n",
       "Restricted Access                       0\n",
       "Hydrogen Status Link                    0\n",
       "NG Vehicle Class                        0\n",
       "LPG Primary                             0\n",
       "E85 Blender Pump                        0\n",
       "Federal Agency ID                      23\n",
       "EV DC Fast Count                       31\n",
       "EV Level1 EVSE Num                     38\n",
       "EV Level2 EVSE Num                     62\n",
       "Latitude                            45226\n",
       "Longitude                           45400\n",
       "ID                                  47559\n",
       "dtype: int64"
      ]
     },
     "execution_count": 11,
     "metadata": {},
     "output_type": "execute_result"
    }
   ],
   "source": [
    "unique_values"
   ]
  },
  {
   "cell_type": "markdown",
   "metadata": {},
   "source": [
    "<br>\n",
    "\n",
    "#### Check for Duplicates"
   ]
  },
  {
   "cell_type": "code",
   "execution_count": 12,
   "metadata": {},
   "outputs": [
    {
     "name": "stdout",
     "output_type": "stream",
     "text": [
      "You seem to have 0 duplicates in your database.\n"
     ]
    },
    {
     "data": {
      "text/plain": [
       "(47559, 65)"
      ]
     },
     "execution_count": 12,
     "metadata": {},
     "output_type": "execute_result"
    }
   ],
   "source": [
    "# Check number of duplicates\n",
    "n_duplicates = df.duplicated().sum()\n",
    "print(f\"You seem to have {n_duplicates} duplicates in your database.\")\n",
    "\n",
    "#  Extract column names of all features\n",
    "columns_to_consider = df.columns\n",
    "\n",
    "# Drop duplicates based on 'columns_to_consider'\n",
    "df_X = df.drop_duplicates(subset=columns_to_consider)\n",
    "df_X.shape\n"
   ]
  },
  {
   "cell_type": "code",
   "execution_count": 13,
   "metadata": {},
   "outputs": [
    {
     "data": {
      "text/plain": [
       "set()"
      ]
     },
     "execution_count": 13,
     "metadata": {},
     "output_type": "execute_result"
    }
   ],
   "source": [
    "# check duplicates\n",
    "dif = set(df.index) - set(df_X.index) \n",
    "dif"
   ]
  },
  {
   "cell_type": "markdown",
   "metadata": {},
   "source": [
    "<br>\n",
    "\n",
    "#### Nan"
   ]
  },
  {
   "cell_type": "code",
   "execution_count": 14,
   "metadata": {},
   "outputs": [
    {
     "data": {
      "text/plain": [
       "array([nan,\n",
       "       '1 LP Inductive  1 SP Inductive  1 Avcon Conductive  1 Other Conductive',\n",
       "       '1 LP Inductive', '1 SP Inductive', '2 Conductive 240V',\n",
       "       '3 SP Inductive', '1 SP Inductive  1 Tesla Conductive',\n",
       "       '2 SP Inductive  1 Avcon Conductive  1 Tesla Conductive',\n",
       "       '2 SP Inductive', '6 Conductive 120V/240V NEMA 14-50',\n",
       "       '2 Tesla Conductive', '1 Tesla Conductive', '1 Conductive 120V',\n",
       "       '7 Conductive 120V', '2 Conductive 120V  1 Conductive 240V'],\n",
       "      dtype=object)"
      ]
     },
     "execution_count": 14,
     "metadata": {},
     "output_type": "execute_result"
    }
   ],
   "source": [
    "# When new data set is added check 'Expected Date'\n",
    "# before all this row is cleaned out of the dataset\n",
    "df['Expected Date'].count()\n",
    "\n",
    "df['EV Other Info'].unique()"
   ]
  },
  {
   "cell_type": "code",
   "execution_count": 15,
   "metadata": {},
   "outputs": [],
   "source": [
    "msno.matrix(df);"
   ]
  },
  {
   "cell_type": "code",
   "execution_count": null,
   "metadata": {},
   "outputs": [],
   "source": [
    "msno.bar(df);"
   ]
  },
  {
   "cell_type": "code",
   "execution_count": null,
   "metadata": {},
   "outputs": [],
   "source": []
  },
  {
   "cell_type": "markdown",
   "metadata": {},
   "source": [
    "<br>\n",
    "\n",
    "#### Numerical Features"
   ]
  },
  {
   "cell_type": "code",
   "execution_count": null,
   "metadata": {},
   "outputs": [],
   "source": [
    "# Numerical Features\n",
    "\n",
    "df.plot(lw=0,\n",
    "    marker='.',\n",
    "    subplots=True,\n",
    "    layout=(-1,4),\n",
    "    figsize=(15,15),\n",
    "    markersize=1);"
   ]
  },
  {
   "cell_type": "markdown",
   "metadata": {},
   "source": [
    "<br>\n",
    "\n",
    "#### Non-Numerical Features"
   ]
  },
  {
   "cell_type": "code",
   "execution_count": null,
   "metadata": {},
   "outputs": [],
   "source": [
    "# number of non-numerical features\n",
    "df.select_dtypes(exclude=[\"number\", \"datetime\"]).shape"
   ]
  },
  {
   "cell_type": "code",
   "execution_count": null,
   "metadata": {},
   "outputs": [],
   "source": [
    "# Create figure object with 3 subplots\n",
    "fig, axes = plt.subplots(ncols=1, nrows=31, figsize=(24, 69))\n",
    "\n",
    "# Identify non-numerical features\n",
    "df_non_numerical = df.select_dtypes(exclude=[\"number\", \"datetime\"])\n",
    "\n",
    "# Loop through features and put each subplot on a matplotlib axis object\n",
    "for col, ax in zip(df_non_numerical.columns, axes.ravel()):\n",
    "\n",
    "    # Selects one single feature and counts number of unique value\n",
    "    df_non_numerical[col].value_counts().plot(\n",
    "\n",
    "        # Plots this information in a figure with log-scaled y-axis\n",
    "        logy=True, title=col, lw=0, marker=\".\", ax=ax)\n",
    "    \n",
    "plt.tight_layout();"
   ]
  },
  {
   "cell_type": "markdown",
   "metadata": {},
   "source": [
    "<br>\n",
    "\n",
    "#### Feature Distrobution"
   ]
  },
  {
   "cell_type": "code",
   "execution_count": null,
   "metadata": {},
   "outputs": [],
   "source": [
    "# Plots the histogram for each numerical feature in a separate subplot\n",
    "df.hist(bins=25, figsize=(41, 21), layout=(-1, 5), edgecolor=\"black\")\n",
    "plt.tight_layout();"
   ]
  },
  {
   "cell_type": "code",
   "execution_count": null,
   "metadata": {},
   "outputs": [],
   "source": [
    "df.columns"
   ]
  },
  {
   "cell_type": "markdown",
   "metadata": {},
   "source": [
    "# Cleaning\n",
    "<hr>"
   ]
  },
  {
   "cell_type": "code",
   "execution_count": null,
   "metadata": {},
   "outputs": [],
   "source": []
  },
  {
   "cell_type": "markdown",
   "metadata": {},
   "source": [
    "##### Droping Columns"
   ]
  },
  {
   "cell_type": "code",
   "execution_count": null,
   "metadata": {},
   "outputs": [],
   "source": [
    "# checking columns value"
   ]
  },
  {
   "cell_type": "code",
   "execution_count": null,
   "metadata": {},
   "outputs": [],
   "source": [
    "\n",
    "# DROP Columns\n",
    "columns_to_drop = ['Status Code','Plus4','Fuel Type Code',\n",
    "            'BD Blends','NG Fill Type Code','NG PSI',\n",
    "            'Hydrogen Status Link','NG Vehicle Class','E85 Blender Pump',\n",
    "            'Intersection Directions (French)','Access Days Time (French)',\n",
    "            'BD Blends (French)','Groups With Access Code (French)','Hydrogen Is Retail',\n",
    "            'CNG Dispenser Num','CNG On-Site Renewable Source','CNG Total Compression Capacity',\n",
    "            'CNG Storage Capacity','CNG Storage Capacity','LNG On-Site Renewable Source',\n",
    "            'E85 Other Ethanol Blends','EV Pricing (French)','LPG Nozzle Types',\n",
    "            'LPG Nozzle Types','Hydrogen Pressures','Hydrogen Standards','CNG Fill Type Code'\n",
    "            ,'CNG PSI','CNG Vehicle Class','LNG Vehicle Class','Restricted Access','LPG Primary']\n",
    "\n",
    "\n",
    "print()\n",
    "print('Originally column count: ',df.shape[1])\n",
    "# Drop Columns\n",
    "df.drop(columns = columns_to_drop, axis = 1, inplace = True)\n",
    "print('Current column count: ', df.shape[1])"
   ]
  },
  {
   "cell_type": "code",
   "execution_count": null,
   "metadata": {},
   "outputs": [],
   "source": [
    "# fill in Nans\n",
    "\n",
    "df['EV Level1 EVSE Num'] = df['EV Level1 EVSE Num'].fillna(0)\n",
    "df['EV Level2 EVSE Num'] = df['EV Level2 EVSE Num'].fillna(0)\n",
    "df['EV DC Fast Count'] = df['EV DC Fast Count'].fillna(0)"
   ]
  },
  {
   "cell_type": "markdown",
   "metadata": {},
   "source": [
    "<br>\n",
    "\n",
    "# Feature Creation\n",
    "<hr>"
   ]
  },
  {
   "cell_type": "code",
   "execution_count": null,
   "metadata": {},
   "outputs": [],
   "source": []
  },
  {
   "cell_type": "markdown",
   "metadata": {},
   "source": [
    "<hr>\n",
    "\n",
    "#### EXPORT CSV\n"
   ]
  },
  {
   "cell_type": "code",
   "execution_count": null,
   "metadata": {},
   "outputs": [],
   "source": [
    "# Export\n",
    "df.to_csv('../clean_data/all_EV_stations-clean.csv', index = False)"
   ]
  },
  {
   "cell_type": "markdown",
   "metadata": {},
   "source": [
    "<br> \n",
    "\n",
    "# Notes\n",
    "<hr>"
   ]
  },
  {
   "cell_type": "code",
   "execution_count": null,
   "metadata": {},
   "outputs": [],
   "source": [
    "# Features to examine \n",
    "\n",
    "'Groups With Access Code' public private\n",
    "'Access Days Time'\n",
    "\n",
    "'Cards Accepted'\n",
    "\n",
    "\n",
    "'Owner Type Code'\n",
    "\n",
    "'Facility Type'\n",
    "'EV On-Site Renewable Source'\n",
    "\n",
    "\n",
    "'Open Date'\n",
    "'Expected Date' "
   ]
  },
  {
   "cell_type": "markdown",
   "metadata": {},
   "source": [
    "# Exploration\n",
    "<hr>"
   ]
  },
  {
   "cell_type": "code",
   "execution_count": null,
   "metadata": {},
   "outputs": [],
   "source": [
    "# feature distrobution after the columns where dropped \n",
    "\n",
    "# Plots the histogram for each numerical feature in a separate subplot\n",
    "df.hist(bins=25, figsize=(41, 21), layout=(-1, 5), edgecolor=\"black\")\n",
    "plt.tight_layout();"
   ]
  },
  {
   "cell_type": "code",
   "execution_count": null,
   "metadata": {},
   "outputs": [],
   "source": [
    "# Numerical features as scatter plots , after columns where dropped\n",
    "\n",
    "df.plot(lw=0,\n",
    "    marker='.',\n",
    "    subplots=True,\n",
    "    layout=(-1,4),\n",
    "    figsize=(15,15),\n",
    "    markersize=1);"
   ]
  },
  {
   "cell_type": "code",
   "execution_count": null,
   "metadata": {},
   "outputs": [],
   "source": [
    "df.head(1).T"
   ]
  },
  {
   "cell_type": "code",
   "execution_count": null,
   "metadata": {},
   "outputs": [],
   "source": [
    "df['EV Network Web'].unique()\n",
    "df['EV Network'].unique()\n",
    "df['Access Detail Code'].unique()"
   ]
  },
  {
   "cell_type": "code",
   "execution_count": null,
   "metadata": {},
   "outputs": [],
   "source": [
    "['Federal Agency ID', 'Federal Agency Name','Federal Agency Code',\n",
    "'Intersection Directions','Station Phone','EV Other Info'"
   ]
  }
 ],
 "metadata": {
  "interpreter": {
   "hash": "64e70a65f914b1ad4985912dff96c6cfe72948a59161a29478c9a27caafae57f"
  },
  "kernelspec": {
   "display_name": "Python 3.8.2",
   "language": "python",
   "name": "python3"
  },
  "language_info": {
   "codemirror_mode": {
    "name": "ipython",
    "version": 3
   },
   "file_extension": ".py",
   "mimetype": "text/x-python",
   "name": "python",
   "nbconvert_exporter": "python",
   "pygments_lexer": "ipython3",
   "version": "3.8.2"
  },
  "orig_nbformat": 4
 },
 "nbformat": 4,
 "nbformat_minor": 2
}
