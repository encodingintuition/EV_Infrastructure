{
 "cells": [
  {
   "cell_type": "code",
   "execution_count": null,
   "metadata": {},
   "outputs": [],
   "source": [
    "# Questions\n",
    "<>"
   ]
  },
  {
   "cell_type": "markdown",
   "metadata": {},
   "source": [
    "1. Normal power usage of residental homes? - 877kWh per month\n",
    "2. Normal power demand on the grid ?  \n",
    "-- \n",
    "understand how much is commercial "
   ]
  },
  {
   "cell_type": "markdown",
   "metadata": {},
   "source": [
    "3. Number of cars on the road? \n",
    "    - 287 million U.S.\n",
    "    - 4,444,391 New York\n",
    "    - 2,000,000 NYC\n",
    "[US Vehical Registration statists](https://hedgescompany.com/automotive-market-research-statistics/auto-mailing-lists-and-marketing/)  \n",
    "[Highway Statistics 2010](https://www.fhwa.dot.gov/policyinformation/statistics/2010/mv1.cfm)  \n",
    "[Public Road Mileage](https://www.fhwa.dot.gov/policyinformation/statistics/2019/vmt421c.cfm)"
   ]
  },
  {
   "cell_type": "code",
   "execution_count": null,
   "metadata": {},
   "outputs": [],
   "source": []
  },
  {
   "cell_type": "markdown",
   "metadata": {},
   "source": [
    "- The U.S. Department of Transportation's Federal Highway Administration states the average person drives around 13,500 miles every year"
   ]
  },
  {
   "cell_type": "code",
   "execution_count": null,
   "metadata": {},
   "outputs": [],
   "source": [
    "4. How many miles are diven by car each day. - "
   ]
  },
  {
   "cell_type": "markdown",
   "metadata": {},
   "source": [
    "# Resources\n",
    "<>"
   ]
  },
  {
   "cell_type": "markdown",
   "metadata": {},
   "source": [
    "[Bureau of Transportation Statistics](https://www.bts.gov/content/us-vehicle-miles)  \n",
    "statista.com"
   ]
  },
  {
   "cell_type": "code",
   "execution_count": null,
   "metadata": {},
   "outputs": [],
   "source": [
    "[Traffic Data Viewer](https://www.dot.ny.gov/tdv)"
   ]
  },
  {
   "cell_type": "code",
   "execution_count": null,
   "metadata": {},
   "outputs": [],
   "source": [
    "[New York State Data Catalog](https://catalog.data.gov/harvest/36f923f9-f915-42dc-a4de-1a5e3a17d284)"
   ]
  }
 ],
 "metadata": {
  "kernelspec": {
   "display_name": "Python 3",
   "language": "python",
   "name": "python3"
  },
  "language_info": {
   "codemirror_mode": {
    "name": "ipython",
    "version": 3
   },
   "file_extension": ".py",
   "mimetype": "text/x-python",
   "name": "python",
   "nbconvert_exporter": "python",
   "pygments_lexer": "ipython3",
   "version": "3.8.2"
  }
 },
 "nbformat": 4,
 "nbformat_minor": 4
}
