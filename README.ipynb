{
 "cells": [
  {
   "cell_type": "code",
   "execution_count": null,
   "metadata": {},
   "outputs": [],
   "source": []
  },
  {
   "cell_type": "code",
   "execution_count": null,
   "metadata": {},
   "outputs": [],
   "source": []
  },
  {
   "cell_type": "code",
   "execution_count": null,
   "metadata": {},
   "outputs": [],
   "source": []
  },
  {
   "cell_type": "markdown",
   "metadata": {},
   "source": [
    "# DataSets\n",
    "<hr>"
   ]
  },
  {
   "cell_type": "markdown",
   "metadata": {},
   "source": [
    "#### City of Austin - Charging Stations \n",
    "- a list of the EV Charging stations in Austin, TX\n",
    "\n",
    "- Interesting features - price policy, usage-access, conection type, power select, GEO data  \n",
    "\n",
    "- USE - compared # of stations & cars vs  \n",
    "        - [economic EV incentives, \n",
    "        - political breakdown, \n",
    "        - Mean Income - location of EV ports,\n",
    "        - EV cars registered in Austin \n",
    "        - ..... "
   ]
  },
  {
   "cell_type": "code",
   "execution_count": null,
   "metadata": {},
   "outputs": [],
   "source": [
    "#### Georgia Tech - Charging behavior \n",
    "- \n",
    "\n",
    "- "
   ]
  },
  {
   "cell_type": "markdown",
   "metadata": {},
   "source": [
    "#### Caltech \n",
    "\n",
    "- EV charging behavior for 55 charging spaces\n",
    "\n",
    "Questions:\n",
    "- what is the avg time to charge\n",
    "- what is the avg disconnect time\n",
    "- what is the adv time an individual leaves their car plugged in compared to the amount of time it takes to charge a vehicle\n",
    "\n",
    "- how else can i segment the population \n",
    "- is there a pattern between the space ID and the avg kMh charged ( could  a cluster map be used here )\n",
    "- how can i access the json nested in 'userinputs'\n",
    "\n",
    "\n",
    "- start to create a master list of most valuable variable"
   ]
  },
  {
   "cell_type": "code",
   "execution_count": null,
   "metadata": {},
   "outputs": [],
   "source": []
  }
 ],
 "metadata": {
  "language_info": {
   "name": "python"
  },
  "orig_nbformat": 4
 },
 "nbformat": 4,
 "nbformat_minor": 2
}
