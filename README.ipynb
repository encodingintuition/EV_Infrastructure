{
 "cells": [
  {
   "cell_type": "code",
   "execution_count": null,
   "metadata": {},
   "outputs": [],
   "source": [
    "# Exploration in EV Data sets\n",
    "\n",
    "### Goal to forcast the "
   ]
  },
  {
   "cell_type": "markdown",
   "metadata": {},
   "source": [
    "<br>"
   ]
  },
  {
   "cell_type": "markdown",
   "metadata": {},
   "source": [
    "## Question: \n",
    "\n",
    "        How much load will EV cars put on the current grid.  How much over what time frame."
   ]
  },
  {
   "cell_type": "code",
   "execution_count": null,
   "metadata": {},
   "outputs": [],
   "source": [
    "Files:\n"
   ]
  },
  {
   "cell_type": "code",
   "execution_count": null,
   "metadata": {},
   "outputs": [],
   "source": []
  },
  {
   "cell_type": "markdown",
   "metadata": {},
   "source": [
    "# DataSets\n",
    "<hr>"
   ]
  },
  {
   "cell_type": "markdown",
   "metadata": {},
   "source": [
    "### City of Austin - Charging Stations \n",
    "- a list of the EV Charging stations in Austin, TX\n",
    "\n",
    "- Interesting features - price policy, usage-access, conection type, power select, GEO data  \n",
    "\n",
    "- USE - compared # of stations & cars vs  \n",
    "        - [economic EV incentives, \n",
    "        - political breakdown, \n",
    "        - Mean Income - location of EV ports,\n",
    "        - EV cars registered in Austin \n",
    "        - ..... "
   ]
  },
  {
   "cell_type": "markdown",
   "metadata": {},
   "source": [
    "### Georgia Tech - Charging behavior \n",
    "- Charging behavior \n",
    "- 1/1/2014 - 12/31/2014 \n",
    "\n",
    "- Interesting Features\n",
    "\n",
    "\n",
    "Questions\n",
    "Date can be used to say when and how much load is put on the Grid\n",
    "- Q ?what is the best way to show time on a graph?\n",
    "- Q ?Show amount of energy used per time \n",
    "- Q ?is there a normal time period when people charge and how much do they charge?\n",
    "- Q ? do users charge normal at the same time?  what is the propability they keep to their pattern? \n",
    "\n",
    "        Math to show consitensy \n",
    "\n",
    "- Q Is there more charge from a particular user zip code?\n",
    "- Q what if we log that charge that it is not taking place at their home charging\n",
    "- Q most popular 'driver postal code'\n",
    " \n",
    "\n",
    "Basic questions\n",
    "\n",
    "- averge fee \n",
    "- averge charging time\n",
    "- driver postal code. \n",
    "\n",
    "- most popular Port type\n",
    "- avg charing time & energy === per port type \n",
    "\n",
    "Questons about the data \n",
    "\n",
    "- how are they computing GHG savings in (KG)\n",
    "- how are they computing Gasoline savings (gallons)\n",
    "\n"
   ]
  },
  {
   "cell_type": "markdown",
   "metadata": {},
   "source": [
    "### Caltech - Charging behavior\n",
    "\n",
    "- EV charging behavior for 55 charging spaces\n",
    "- data from 1/1/2015 - 1/01/2022\n",
    "\n",
    "Questions:\n",
    "- what is the avg time to charge\n",
    "- what is the avg disconnect time\n",
    "- what is the adv time an individual leaves their car plugged in compared to the amount of time it takes to charge a vehicle\n",
    "\n",
    "- how else can i segment the population \n",
    "- is there a pattern between the space ID and the avg kMh charged ( could  a cluster map be used here )\n",
    "- how can i access the json nested in 'userinputs'\n",
    "\n",
    "\n",
    "- start to create a master list of most valuable variable"
   ]
  },
  {
   "cell_type": "code",
   "execution_count": null,
   "metadata": {},
   "outputs": [],
   "source": []
  }
 ],
 "metadata": {
  "language_info": {
   "name": "python"
  },
  "orig_nbformat": 4
 },
 "nbformat": 4,
 "nbformat_minor": 2
}
